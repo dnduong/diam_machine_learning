{
  "nbformat": 4,
  "nbformat_minor": 0,
  "metadata": {
    "anaconda-cloud": {},
    "colab": {
      "name": "duong_bousahih_dm2_diam.ipynb",
      "provenance": [],
      "collapsed_sections": [],
      "toc_visible": true
    },
    "kernelspec": {
      "display_name": "Python 3",
      "language": "python",
      "name": "python3"
    },
    "language_info": {
      "codemirror_mode": {
        "name": "ipython",
        "version": 3
      },
      "file_extension": ".py",
      "mimetype": "text/x-python",
      "name": "python",
      "nbconvert_exporter": "python",
      "pygments_lexer": "ipython3",
      "version": "3.7.6"
    },
    "toc": {
      "base_numbering": 1,
      "nav_menu": {},
      "number_sections": true,
      "sideBar": true,
      "skip_h1_title": false,
      "title_cell": "Table of Contents",
      "title_sidebar": "Contents",
      "toc_cell": false,
      "toc_position": {},
      "toc_section_display": true,
      "toc_window_display": false
    },
    "accelerator": "GPU"
  },
  "cells": [
    {
      "cell_type": "markdown",
      "metadata": {
        "id": "ol7e04LpCp35"
      },
      "source": [
        "Num_etu :71604573\n",
        "\n",
        "Nom : DUONG\n",
        "\n",
        "Prénom : Duc Nguyen\n",
        "\n",
        "======\n",
        "\n",
        "Num_etu :71500267 \n",
        "\n",
        "Nom : BOUSAHIH \n",
        "\n",
        "Prénom : Mohamed-Amine"
      ]
    },
    {
      "cell_type": "markdown",
      "metadata": {
        "id": "-77ZzX6uULPR"
      },
      "source": [
        "# Homework 2\n",
        "\n",
        "To be done in groups of 2 students.\n",
        "\n",
        "# Pricing Diamonds\n",
        "\n",
        "\n",
        "The dataset contains the following features.\n",
        "- price : price of the dimaond in dollars.\n",
        "\n",
        "- carat : weight of the diamond\n",
        "\n",
        "- cut : quality of the cut\n",
        "\n",
        "- color : color of the diamond, J (worst) to D (best)\n",
        "\n",
        "- clarity : I1 (worst), SI2, SI1, VS2, VS1, VVS2, VVS1, IF (best)\n",
        "\n",
        "- x : length (mm) \n",
        "\n",
        "- y :  width (mm) \n",
        "\n",
        "- z : depth (mm) \n",
        "\n",
        "- depth : 2 * z / (x + y)\n",
        "\n",
        "- table :  width of top of diamond relative to widest point\n",
        "\n",
        "\n",
        "\n",
        "## Your job\n",
        "\n",
        "- Try to understand the data, visualize it. You may use unsupervised learning methods at this stage.\n",
        "- The main aim is then to predict, using supervised learning methods, the price of diamonds based on their different quality features.\n",
        "\n",
        "## We want to see the following things\n",
        "\n",
        "- Prediction results and mean squared error obtained on the test set for the methods you considered.\n",
        "- A discussion about the impact of the hyperparameters of the methods on your predictions.\n",
        "- A clear comparison between your solutions (a table, and/or plots comparing the results obtained with different methods).\n",
        "- A discussion about the difficulties encountered if applicable.\n",
        "- You'll get a good grade if you reach a good accuracy **and** if your notebook is clean, with clear graphs and explanations of what you did **and** if you did efficient calibration of the methods and serious comparisons between different methods\n",
        "- You will send your notebook **containing** the results (**WE WON'T RUN YOUR NOTEBOOK**), namely with the graphs and results that you want to show, as a **unique** jupyter notebook file (`.ipynb` extension). We won't open any other supplementary file.\n",
        "\n",
        "## Hand in your assignment  before 15/11/20 23h55 :\n",
        "\n",
        "- via Moodle for all Université de Paris students\n",
        "- via email if Moodle not possible for Paris 1 students, subject [Machine Learning DM2], aurelie.fischer@univ-paris-diderot.fr\n",
        "\n",
        "\n",
        "## Example of methods\n",
        "\n",
        "Unsupervised learning methods and visualization :\n",
        "- PCA\n",
        "- k-means\n",
        "- mixture models\n",
        "- spectral clustering\n",
        "...\n",
        "\n",
        "Supervised learning methods :\n",
        "- discriminant analysis\n",
        "- logistic regression\n",
        "- SVM\n",
        "- regression trees\n",
        "- bagging\n",
        "- random forests\n",
        "- boosting\n",
        "- ..."
      ]
    },
    {
      "cell_type": "code",
      "metadata": {
        "id": "gHEdi5DF4qHC",
        "outputId": "9d5eb831-06fc-40ef-cace-13ba8a49fe1b",
        "colab": {
          "base_uri": "https://localhost:8080/"
        }
      },
      "source": [
        "%tensorflow_version 2.x\n",
        "import tensorflow as tf\n",
        "device_name = tf.test.gpu_device_name()\n",
        "if device_name != '/device:GPU:0':\n",
        "  raise SystemError('GPU device not found')\n",
        "print('Found GPU at: {}'.format(device_name))"
      ],
      "execution_count": 1,
      "outputs": [
        {
          "output_type": "stream",
          "text": [
            "Found GPU at: /device:GPU:0\n"
          ],
          "name": "stdout"
        }
      ]
    },
    {
      "cell_type": "code",
      "metadata": {
        "id": "2qTbnWxWUhGa",
        "outputId": "b512765d-8b11-409f-9688-ec58bac19aee",
        "colab": {
          "base_uri": "https://localhost:8080/"
        }
      },
      "source": [
        "from google.colab import drive\n",
        "drive.mount('/content/drive')"
      ],
      "execution_count": 2,
      "outputs": [
        {
          "output_type": "stream",
          "text": [
            "Drive already mounted at /content/drive; to attempt to forcibly remount, call drive.mount(\"/content/drive\", force_remount=True).\n"
          ],
          "name": "stdout"
        }
      ]
    },
    {
      "cell_type": "code",
      "metadata": {
        "id": "xn4SZZXpUphT"
      },
      "source": [
        "import warnings\n",
        "warnings.filterwarnings(\"ignore\")\n",
        "import pandas as pd\n",
        "from sklearn import mixture\n",
        "import matplotlib.pyplot as plt\n",
        "import matplotlib.image as mpimg\n",
        "from sklearn import linear_model\n",
        "import sklearn.metrics as metrics\n",
        "from sklearn.preprocessing import PolynomialFeatures\n",
        "from sklearn.tree import DecisionTreeRegressor\n",
        "from sklearn.svm import SVR\n",
        "from sklearn.ensemble import RandomForestRegressor\n",
        "from prettytable import PrettyTable\n",
        "from sklearn.ensemble import AdaBoostRegressor\n",
        "from sklearn.preprocessing import StandardScaler\n",
        "from sklearn.neighbors import KNeighborsRegressor\n",
        "from sklearn.preprocessing import OneHotEncoder\n",
        "from sklearn.compose import ColumnTransformer\n",
        "import seaborn as sns\n",
        "import numpy as np\n",
        "from scipy import stats\n",
        "from scipy import linalg\n",
        "import itertools\n",
        "import matplotlib as mpl\n",
        "from sklearn.model_selection import StratifiedShuffleSplit\n",
        "from sklearn.svm import LinearSVR\n",
        "from sklearn.ensemble import GradientBoostingRegressor\n",
        "from sklearn.ensemble import BaggingRegressor\n",
        "from sklearn.model_selection import RandomizedSearchCV\n",
        "from sklearn.decomposition import PCA"
      ],
      "execution_count": 3,
      "outputs": []
    },
    {
      "cell_type": "markdown",
      "metadata": {
        "id": "xXfYsZsmU4oJ"
      },
      "source": [
        "# Data preparation"
      ]
    },
    {
      "cell_type": "markdown",
      "metadata": {
        "id": "-dl0fdbrwxSX"
      },
      "source": [
        "## Data understanding"
      ]
    },
    {
      "cell_type": "code",
      "metadata": {
        "id": "qKu58GOUULPb",
        "outputId": "cca847df-e9ec-4f20-9b2a-eec008e2939d",
        "colab": {
          "base_uri": "https://localhost:8080/",
          "height": 206
        }
      },
      "source": [
        "data = pd.read_csv('drive/My Drive/Colab Notebooks/diamonds.csv')\n",
        "data.head()"
      ],
      "execution_count": 4,
      "outputs": [
        {
          "output_type": "execute_result",
          "data": {
            "text/html": [
              "<div>\n",
              "<style scoped>\n",
              "    .dataframe tbody tr th:only-of-type {\n",
              "        vertical-align: middle;\n",
              "    }\n",
              "\n",
              "    .dataframe tbody tr th {\n",
              "        vertical-align: top;\n",
              "    }\n",
              "\n",
              "    .dataframe thead th {\n",
              "        text-align: right;\n",
              "    }\n",
              "</style>\n",
              "<table border=\"1\" class=\"dataframe\">\n",
              "  <thead>\n",
              "    <tr style=\"text-align: right;\">\n",
              "      <th></th>\n",
              "      <th>Unnamed: 0</th>\n",
              "      <th>carat</th>\n",
              "      <th>cut</th>\n",
              "      <th>color</th>\n",
              "      <th>clarity</th>\n",
              "      <th>depth</th>\n",
              "      <th>table</th>\n",
              "      <th>price</th>\n",
              "      <th>x</th>\n",
              "      <th>y</th>\n",
              "      <th>z</th>\n",
              "    </tr>\n",
              "  </thead>\n",
              "  <tbody>\n",
              "    <tr>\n",
              "      <th>0</th>\n",
              "      <td>1</td>\n",
              "      <td>0.23</td>\n",
              "      <td>Ideal</td>\n",
              "      <td>E</td>\n",
              "      <td>SI2</td>\n",
              "      <td>61.5</td>\n",
              "      <td>55.0</td>\n",
              "      <td>326</td>\n",
              "      <td>3.95</td>\n",
              "      <td>3.98</td>\n",
              "      <td>2.43</td>\n",
              "    </tr>\n",
              "    <tr>\n",
              "      <th>1</th>\n",
              "      <td>2</td>\n",
              "      <td>0.21</td>\n",
              "      <td>Premium</td>\n",
              "      <td>E</td>\n",
              "      <td>SI1</td>\n",
              "      <td>59.8</td>\n",
              "      <td>61.0</td>\n",
              "      <td>326</td>\n",
              "      <td>3.89</td>\n",
              "      <td>3.84</td>\n",
              "      <td>2.31</td>\n",
              "    </tr>\n",
              "    <tr>\n",
              "      <th>2</th>\n",
              "      <td>3</td>\n",
              "      <td>0.23</td>\n",
              "      <td>Good</td>\n",
              "      <td>E</td>\n",
              "      <td>VS1</td>\n",
              "      <td>56.9</td>\n",
              "      <td>65.0</td>\n",
              "      <td>327</td>\n",
              "      <td>4.05</td>\n",
              "      <td>4.07</td>\n",
              "      <td>2.31</td>\n",
              "    </tr>\n",
              "    <tr>\n",
              "      <th>3</th>\n",
              "      <td>4</td>\n",
              "      <td>0.29</td>\n",
              "      <td>Premium</td>\n",
              "      <td>I</td>\n",
              "      <td>VS2</td>\n",
              "      <td>62.4</td>\n",
              "      <td>58.0</td>\n",
              "      <td>334</td>\n",
              "      <td>4.20</td>\n",
              "      <td>4.23</td>\n",
              "      <td>2.63</td>\n",
              "    </tr>\n",
              "    <tr>\n",
              "      <th>4</th>\n",
              "      <td>5</td>\n",
              "      <td>0.31</td>\n",
              "      <td>Good</td>\n",
              "      <td>J</td>\n",
              "      <td>SI2</td>\n",
              "      <td>63.3</td>\n",
              "      <td>58.0</td>\n",
              "      <td>335</td>\n",
              "      <td>4.34</td>\n",
              "      <td>4.35</td>\n",
              "      <td>2.75</td>\n",
              "    </tr>\n",
              "  </tbody>\n",
              "</table>\n",
              "</div>"
            ],
            "text/plain": [
              "   Unnamed: 0  carat      cut color clarity  ...  table  price     x     y     z\n",
              "0           1   0.23    Ideal     E     SI2  ...   55.0    326  3.95  3.98  2.43\n",
              "1           2   0.21  Premium     E     SI1  ...   61.0    326  3.89  3.84  2.31\n",
              "2           3   0.23     Good     E     VS1  ...   65.0    327  4.05  4.07  2.31\n",
              "3           4   0.29  Premium     I     VS2  ...   58.0    334  4.20  4.23  2.63\n",
              "4           5   0.31     Good     J     SI2  ...   58.0    335  4.34  4.35  2.75\n",
              "\n",
              "[5 rows x 11 columns]"
            ]
          },
          "metadata": {
            "tags": []
          },
          "execution_count": 4
        }
      ]
    },
    {
      "cell_type": "code",
      "metadata": {
        "id": "A8y_if7AVhp7",
        "outputId": "4d15a5d8-a0e0-4e8d-b51c-3a809a4934e7",
        "colab": {
          "base_uri": "https://localhost:8080/"
        }
      },
      "source": [
        "data.info()"
      ],
      "execution_count": 5,
      "outputs": [
        {
          "output_type": "stream",
          "text": [
            "<class 'pandas.core.frame.DataFrame'>\n",
            "RangeIndex: 53940 entries, 0 to 53939\n",
            "Data columns (total 11 columns):\n",
            " #   Column      Non-Null Count  Dtype  \n",
            "---  ------      --------------  -----  \n",
            " 0   Unnamed: 0  53940 non-null  int64  \n",
            " 1   carat       53940 non-null  float64\n",
            " 2   cut         53940 non-null  object \n",
            " 3   color       53940 non-null  object \n",
            " 4   clarity     53940 non-null  object \n",
            " 5   depth       53940 non-null  float64\n",
            " 6   table       53940 non-null  float64\n",
            " 7   price       53940 non-null  int64  \n",
            " 8   x           53940 non-null  float64\n",
            " 9   y           53940 non-null  float64\n",
            " 10  z           53940 non-null  float64\n",
            "dtypes: float64(6), int64(2), object(3)\n",
            "memory usage: 4.5+ MB\n"
          ],
          "name": "stdout"
        }
      ]
    },
    {
      "cell_type": "markdown",
      "metadata": {
        "id": "wRyGTtd-pHoo"
      },
      "source": [
        "The column Unnamed: 0 seems to be not necessary so we are going to drop it.\n",
        "\n",
        "price is of type int64, we might want to use the same type for all numerical features (float here)."
      ]
    },
    {
      "cell_type": "code",
      "metadata": {
        "id": "bXpClAD5UyD3",
        "outputId": "7fd2856b-e3b7-4031-9d47-5d620cba1dc6",
        "colab": {
          "base_uri": "https://localhost:8080/",
          "height": 206
        }
      },
      "source": [
        "data = data.drop(['Unnamed: 0'],axis = 1)\n",
        "\n",
        "data[\"price\"] = data[\"price\"].astype(float)\n",
        "data.head()"
      ],
      "execution_count": 6,
      "outputs": [
        {
          "output_type": "execute_result",
          "data": {
            "text/html": [
              "<div>\n",
              "<style scoped>\n",
              "    .dataframe tbody tr th:only-of-type {\n",
              "        vertical-align: middle;\n",
              "    }\n",
              "\n",
              "    .dataframe tbody tr th {\n",
              "        vertical-align: top;\n",
              "    }\n",
              "\n",
              "    .dataframe thead th {\n",
              "        text-align: right;\n",
              "    }\n",
              "</style>\n",
              "<table border=\"1\" class=\"dataframe\">\n",
              "  <thead>\n",
              "    <tr style=\"text-align: right;\">\n",
              "      <th></th>\n",
              "      <th>carat</th>\n",
              "      <th>cut</th>\n",
              "      <th>color</th>\n",
              "      <th>clarity</th>\n",
              "      <th>depth</th>\n",
              "      <th>table</th>\n",
              "      <th>price</th>\n",
              "      <th>x</th>\n",
              "      <th>y</th>\n",
              "      <th>z</th>\n",
              "    </tr>\n",
              "  </thead>\n",
              "  <tbody>\n",
              "    <tr>\n",
              "      <th>0</th>\n",
              "      <td>0.23</td>\n",
              "      <td>Ideal</td>\n",
              "      <td>E</td>\n",
              "      <td>SI2</td>\n",
              "      <td>61.5</td>\n",
              "      <td>55.0</td>\n",
              "      <td>326.0</td>\n",
              "      <td>3.95</td>\n",
              "      <td>3.98</td>\n",
              "      <td>2.43</td>\n",
              "    </tr>\n",
              "    <tr>\n",
              "      <th>1</th>\n",
              "      <td>0.21</td>\n",
              "      <td>Premium</td>\n",
              "      <td>E</td>\n",
              "      <td>SI1</td>\n",
              "      <td>59.8</td>\n",
              "      <td>61.0</td>\n",
              "      <td>326.0</td>\n",
              "      <td>3.89</td>\n",
              "      <td>3.84</td>\n",
              "      <td>2.31</td>\n",
              "    </tr>\n",
              "    <tr>\n",
              "      <th>2</th>\n",
              "      <td>0.23</td>\n",
              "      <td>Good</td>\n",
              "      <td>E</td>\n",
              "      <td>VS1</td>\n",
              "      <td>56.9</td>\n",
              "      <td>65.0</td>\n",
              "      <td>327.0</td>\n",
              "      <td>4.05</td>\n",
              "      <td>4.07</td>\n",
              "      <td>2.31</td>\n",
              "    </tr>\n",
              "    <tr>\n",
              "      <th>3</th>\n",
              "      <td>0.29</td>\n",
              "      <td>Premium</td>\n",
              "      <td>I</td>\n",
              "      <td>VS2</td>\n",
              "      <td>62.4</td>\n",
              "      <td>58.0</td>\n",
              "      <td>334.0</td>\n",
              "      <td>4.20</td>\n",
              "      <td>4.23</td>\n",
              "      <td>2.63</td>\n",
              "    </tr>\n",
              "    <tr>\n",
              "      <th>4</th>\n",
              "      <td>0.31</td>\n",
              "      <td>Good</td>\n",
              "      <td>J</td>\n",
              "      <td>SI2</td>\n",
              "      <td>63.3</td>\n",
              "      <td>58.0</td>\n",
              "      <td>335.0</td>\n",
              "      <td>4.34</td>\n",
              "      <td>4.35</td>\n",
              "      <td>2.75</td>\n",
              "    </tr>\n",
              "  </tbody>\n",
              "</table>\n",
              "</div>"
            ],
            "text/plain": [
              "   carat      cut color clarity  depth  table  price     x     y     z\n",
              "0   0.23    Ideal     E     SI2   61.5   55.0  326.0  3.95  3.98  2.43\n",
              "1   0.21  Premium     E     SI1   59.8   61.0  326.0  3.89  3.84  2.31\n",
              "2   0.23     Good     E     VS1   56.9   65.0  327.0  4.05  4.07  2.31\n",
              "3   0.29  Premium     I     VS2   62.4   58.0  334.0  4.20  4.23  2.63\n",
              "4   0.31     Good     J     SI2   63.3   58.0  335.0  4.34  4.35  2.75"
            ]
          },
          "metadata": {
            "tags": []
          },
          "execution_count": 6
        }
      ]
    },
    {
      "cell_type": "code",
      "metadata": {
        "id": "6yT6r7KsaYBr",
        "outputId": "282b08cb-50d8-4a9b-8519-89dc60e01c6f",
        "colab": {
          "base_uri": "https://localhost:8080/"
        }
      },
      "source": [
        "data.isnull().sum()"
      ],
      "execution_count": 7,
      "outputs": [
        {
          "output_type": "execute_result",
          "data": {
            "text/plain": [
              "carat      0\n",
              "cut        0\n",
              "color      0\n",
              "clarity    0\n",
              "depth      0\n",
              "table      0\n",
              "price      0\n",
              "x          0\n",
              "y          0\n",
              "z          0\n",
              "dtype: int64"
            ]
          },
          "metadata": {
            "tags": []
          },
          "execution_count": 7
        }
      ]
    },
    {
      "cell_type": "markdown",
      "metadata": {
        "id": "eKBsPwFaphSu"
      },
      "source": [
        "There are 53490 instances in the dataset. There are also no missing instances in the dataset. That looks pretty clean!\n",
        "\n",
        "It's a must to work with dataset when all its features are numerical. The cut, color and clarity features are non-numeric (They are objects). We need to convert them to numerical.\n",
        "\n",
        "Let's have a closer look!"
      ]
    },
    {
      "cell_type": "code",
      "metadata": {
        "id": "K9E9e5uMYAC4",
        "outputId": "d5c520cb-5357-42a2-a0a9-590b7702c64c",
        "colab": {
          "base_uri": "https://localhost:8080/"
        }
      },
      "source": [
        "data[\"cut\"].value_counts()"
      ],
      "execution_count": 8,
      "outputs": [
        {
          "output_type": "execute_result",
          "data": {
            "text/plain": [
              "Ideal        21551\n",
              "Premium      13791\n",
              "Very Good    12082\n",
              "Good          4906\n",
              "Fair          1610\n",
              "Name: cut, dtype: int64"
            ]
          },
          "metadata": {
            "tags": []
          },
          "execution_count": 8
        }
      ]
    },
    {
      "cell_type": "code",
      "metadata": {
        "id": "clmCR7UcYAhP",
        "outputId": "93718131-6a1c-49b9-ddb0-636e41577771",
        "colab": {
          "base_uri": "https://localhost:8080/"
        }
      },
      "source": [
        "data[\"clarity\"].value_counts()"
      ],
      "execution_count": 9,
      "outputs": [
        {
          "output_type": "execute_result",
          "data": {
            "text/plain": [
              "SI1     13065\n",
              "VS2     12258\n",
              "SI2      9194\n",
              "VS1      8171\n",
              "VVS2     5066\n",
              "VVS1     3655\n",
              "IF       1790\n",
              "I1        741\n",
              "Name: clarity, dtype: int64"
            ]
          },
          "metadata": {
            "tags": []
          },
          "execution_count": 9
        }
      ]
    },
    {
      "cell_type": "code",
      "metadata": {
        "id": "_qBr1AukYA5I",
        "outputId": "f4b8b336-5bfc-466e-f382-395b1da3afdc",
        "colab": {
          "base_uri": "https://localhost:8080/"
        }
      },
      "source": [
        "data[\"color\"].value_counts()"
      ],
      "execution_count": 10,
      "outputs": [
        {
          "output_type": "execute_result",
          "data": {
            "text/plain": [
              "G    11292\n",
              "E     9797\n",
              "F     9542\n",
              "H     8304\n",
              "D     6775\n",
              "I     5422\n",
              "J     2808\n",
              "Name: color, dtype: int64"
            ]
          },
          "metadata": {
            "tags": []
          },
          "execution_count": 10
        }
      ]
    },
    {
      "cell_type": "markdown",
      "metadata": {
        "id": "0v8OoiZZp8B2"
      },
      "source": [
        "We can see here that they don't have many categories.\n",
        "\n",
        "Let's have a global view to our numerical features with a quick summary"
      ]
    },
    {
      "cell_type": "code",
      "metadata": {
        "id": "NXB-n9aAYOOX",
        "outputId": "6213c69b-197e-4126-8aef-506b7c5596b2",
        "colab": {
          "base_uri": "https://localhost:8080/",
          "height": 300
        }
      },
      "source": [
        "data.describe()"
      ],
      "execution_count": 11,
      "outputs": [
        {
          "output_type": "execute_result",
          "data": {
            "text/html": [
              "<div>\n",
              "<style scoped>\n",
              "    .dataframe tbody tr th:only-of-type {\n",
              "        vertical-align: middle;\n",
              "    }\n",
              "\n",
              "    .dataframe tbody tr th {\n",
              "        vertical-align: top;\n",
              "    }\n",
              "\n",
              "    .dataframe thead th {\n",
              "        text-align: right;\n",
              "    }\n",
              "</style>\n",
              "<table border=\"1\" class=\"dataframe\">\n",
              "  <thead>\n",
              "    <tr style=\"text-align: right;\">\n",
              "      <th></th>\n",
              "      <th>carat</th>\n",
              "      <th>depth</th>\n",
              "      <th>table</th>\n",
              "      <th>price</th>\n",
              "      <th>x</th>\n",
              "      <th>y</th>\n",
              "      <th>z</th>\n",
              "    </tr>\n",
              "  </thead>\n",
              "  <tbody>\n",
              "    <tr>\n",
              "      <th>count</th>\n",
              "      <td>53940.000000</td>\n",
              "      <td>53940.000000</td>\n",
              "      <td>53940.000000</td>\n",
              "      <td>53940.000000</td>\n",
              "      <td>53940.000000</td>\n",
              "      <td>53940.000000</td>\n",
              "      <td>53940.000000</td>\n",
              "    </tr>\n",
              "    <tr>\n",
              "      <th>mean</th>\n",
              "      <td>0.797940</td>\n",
              "      <td>61.749405</td>\n",
              "      <td>57.457184</td>\n",
              "      <td>3932.799722</td>\n",
              "      <td>5.731157</td>\n",
              "      <td>5.734526</td>\n",
              "      <td>3.538734</td>\n",
              "    </tr>\n",
              "    <tr>\n",
              "      <th>std</th>\n",
              "      <td>0.474011</td>\n",
              "      <td>1.432621</td>\n",
              "      <td>2.234491</td>\n",
              "      <td>3989.439738</td>\n",
              "      <td>1.121761</td>\n",
              "      <td>1.142135</td>\n",
              "      <td>0.705699</td>\n",
              "    </tr>\n",
              "    <tr>\n",
              "      <th>min</th>\n",
              "      <td>0.200000</td>\n",
              "      <td>43.000000</td>\n",
              "      <td>43.000000</td>\n",
              "      <td>326.000000</td>\n",
              "      <td>0.000000</td>\n",
              "      <td>0.000000</td>\n",
              "      <td>0.000000</td>\n",
              "    </tr>\n",
              "    <tr>\n",
              "      <th>25%</th>\n",
              "      <td>0.400000</td>\n",
              "      <td>61.000000</td>\n",
              "      <td>56.000000</td>\n",
              "      <td>950.000000</td>\n",
              "      <td>4.710000</td>\n",
              "      <td>4.720000</td>\n",
              "      <td>2.910000</td>\n",
              "    </tr>\n",
              "    <tr>\n",
              "      <th>50%</th>\n",
              "      <td>0.700000</td>\n",
              "      <td>61.800000</td>\n",
              "      <td>57.000000</td>\n",
              "      <td>2401.000000</td>\n",
              "      <td>5.700000</td>\n",
              "      <td>5.710000</td>\n",
              "      <td>3.530000</td>\n",
              "    </tr>\n",
              "    <tr>\n",
              "      <th>75%</th>\n",
              "      <td>1.040000</td>\n",
              "      <td>62.500000</td>\n",
              "      <td>59.000000</td>\n",
              "      <td>5324.250000</td>\n",
              "      <td>6.540000</td>\n",
              "      <td>6.540000</td>\n",
              "      <td>4.040000</td>\n",
              "    </tr>\n",
              "    <tr>\n",
              "      <th>max</th>\n",
              "      <td>5.010000</td>\n",
              "      <td>79.000000</td>\n",
              "      <td>95.000000</td>\n",
              "      <td>18823.000000</td>\n",
              "      <td>10.740000</td>\n",
              "      <td>58.900000</td>\n",
              "      <td>31.800000</td>\n",
              "    </tr>\n",
              "  </tbody>\n",
              "</table>\n",
              "</div>"
            ],
            "text/plain": [
              "              carat         depth  ...             y             z\n",
              "count  53940.000000  53940.000000  ...  53940.000000  53940.000000\n",
              "mean       0.797940     61.749405  ...      5.734526      3.538734\n",
              "std        0.474011      1.432621  ...      1.142135      0.705699\n",
              "min        0.200000     43.000000  ...      0.000000      0.000000\n",
              "25%        0.400000     61.000000  ...      4.720000      2.910000\n",
              "50%        0.700000     61.800000  ...      5.710000      3.530000\n",
              "75%        1.040000     62.500000  ...      6.540000      4.040000\n",
              "max        5.010000     79.000000  ...     58.900000     31.800000\n",
              "\n",
              "[8 rows x 7 columns]"
            ]
          },
          "metadata": {
            "tags": []
          },
          "execution_count": 11
        }
      ]
    },
    {
      "cell_type": "markdown",
      "metadata": {
        "id": "CVcpv-YvXhWf"
      },
      "source": [
        "## Remove outliers"
      ]
    },
    {
      "cell_type": "markdown",
      "metadata": {
        "id": "b6crIddZq3lW"
      },
      "source": [
        "We can see in the summary that there are somes x,y,z features equal to 0. It doesn't make any sense, so let's drop them."
      ]
    },
    {
      "cell_type": "code",
      "metadata": {
        "id": "dF6usZ1DXKyz",
        "outputId": "d2db12f0-54ff-49e2-de82-a110305a65b5",
        "colab": {
          "base_uri": "https://localhost:8080/",
          "height": 300
        }
      },
      "source": [
        "#We have some x,y,z = 0. It doesn't make any sense, so let's drop them\n",
        "data = data.loc[(data[['x','y','z']]!=0).all(axis=1)]\n",
        "data.describe()"
      ],
      "execution_count": 12,
      "outputs": [
        {
          "output_type": "execute_result",
          "data": {
            "text/html": [
              "<div>\n",
              "<style scoped>\n",
              "    .dataframe tbody tr th:only-of-type {\n",
              "        vertical-align: middle;\n",
              "    }\n",
              "\n",
              "    .dataframe tbody tr th {\n",
              "        vertical-align: top;\n",
              "    }\n",
              "\n",
              "    .dataframe thead th {\n",
              "        text-align: right;\n",
              "    }\n",
              "</style>\n",
              "<table border=\"1\" class=\"dataframe\">\n",
              "  <thead>\n",
              "    <tr style=\"text-align: right;\">\n",
              "      <th></th>\n",
              "      <th>carat</th>\n",
              "      <th>depth</th>\n",
              "      <th>table</th>\n",
              "      <th>price</th>\n",
              "      <th>x</th>\n",
              "      <th>y</th>\n",
              "      <th>z</th>\n",
              "    </tr>\n",
              "  </thead>\n",
              "  <tbody>\n",
              "    <tr>\n",
              "      <th>count</th>\n",
              "      <td>53920.000000</td>\n",
              "      <td>53920.000000</td>\n",
              "      <td>53920.000000</td>\n",
              "      <td>53920.000000</td>\n",
              "      <td>53920.000000</td>\n",
              "      <td>53920.000000</td>\n",
              "      <td>53920.000000</td>\n",
              "    </tr>\n",
              "    <tr>\n",
              "      <th>mean</th>\n",
              "      <td>0.797698</td>\n",
              "      <td>61.749514</td>\n",
              "      <td>57.456834</td>\n",
              "      <td>3930.993231</td>\n",
              "      <td>5.731627</td>\n",
              "      <td>5.734887</td>\n",
              "      <td>3.540046</td>\n",
              "    </tr>\n",
              "    <tr>\n",
              "      <th>std</th>\n",
              "      <td>0.473795</td>\n",
              "      <td>1.432331</td>\n",
              "      <td>2.234064</td>\n",
              "      <td>3987.280446</td>\n",
              "      <td>1.119423</td>\n",
              "      <td>1.140126</td>\n",
              "      <td>0.702530</td>\n",
              "    </tr>\n",
              "    <tr>\n",
              "      <th>min</th>\n",
              "      <td>0.200000</td>\n",
              "      <td>43.000000</td>\n",
              "      <td>43.000000</td>\n",
              "      <td>326.000000</td>\n",
              "      <td>3.730000</td>\n",
              "      <td>3.680000</td>\n",
              "      <td>1.070000</td>\n",
              "    </tr>\n",
              "    <tr>\n",
              "      <th>25%</th>\n",
              "      <td>0.400000</td>\n",
              "      <td>61.000000</td>\n",
              "      <td>56.000000</td>\n",
              "      <td>949.000000</td>\n",
              "      <td>4.710000</td>\n",
              "      <td>4.720000</td>\n",
              "      <td>2.910000</td>\n",
              "    </tr>\n",
              "    <tr>\n",
              "      <th>50%</th>\n",
              "      <td>0.700000</td>\n",
              "      <td>61.800000</td>\n",
              "      <td>57.000000</td>\n",
              "      <td>2401.000000</td>\n",
              "      <td>5.700000</td>\n",
              "      <td>5.710000</td>\n",
              "      <td>3.530000</td>\n",
              "    </tr>\n",
              "    <tr>\n",
              "      <th>75%</th>\n",
              "      <td>1.040000</td>\n",
              "      <td>62.500000</td>\n",
              "      <td>59.000000</td>\n",
              "      <td>5323.250000</td>\n",
              "      <td>6.540000</td>\n",
              "      <td>6.540000</td>\n",
              "      <td>4.040000</td>\n",
              "    </tr>\n",
              "    <tr>\n",
              "      <th>max</th>\n",
              "      <td>5.010000</td>\n",
              "      <td>79.000000</td>\n",
              "      <td>95.000000</td>\n",
              "      <td>18823.000000</td>\n",
              "      <td>10.740000</td>\n",
              "      <td>58.900000</td>\n",
              "      <td>31.800000</td>\n",
              "    </tr>\n",
              "  </tbody>\n",
              "</table>\n",
              "</div>"
            ],
            "text/plain": [
              "              carat         depth  ...             y             z\n",
              "count  53920.000000  53920.000000  ...  53920.000000  53920.000000\n",
              "mean       0.797698     61.749514  ...      5.734887      3.540046\n",
              "std        0.473795      1.432331  ...      1.140126      0.702530\n",
              "min        0.200000     43.000000  ...      3.680000      1.070000\n",
              "25%        0.400000     61.000000  ...      4.720000      2.910000\n",
              "50%        0.700000     61.800000  ...      5.710000      3.530000\n",
              "75%        1.040000     62.500000  ...      6.540000      4.040000\n",
              "max        5.010000     79.000000  ...     58.900000     31.800000\n",
              "\n",
              "[8 rows x 7 columns]"
            ]
          },
          "metadata": {
            "tags": []
          },
          "execution_count": 12
        }
      ]
    },
    {
      "cell_type": "code",
      "metadata": {
        "id": "BXnUcnU43kEx",
        "outputId": "3b5ccf7f-0313-4280-f62a-d906d283492f",
        "colab": {
          "base_uri": "https://localhost:8080/"
        }
      },
      "source": [
        "data.loc[(data['x']==0) | (data['y']==0) | (data['z']==0)].shape"
      ],
      "execution_count": 13,
      "outputs": [
        {
          "output_type": "execute_result",
          "data": {
            "text/plain": [
              "(0, 10)"
            ]
          },
          "metadata": {
            "tags": []
          },
          "execution_count": 13
        }
      ]
    },
    {
      "cell_type": "markdown",
      "metadata": {
        "id": "1pn7WQltrHWT"
      },
      "source": [
        "We can see there are some outliers out there. For example, we have the max carat = 5.01 but 75% of diamonds carat is lower than 1.04, or the max y dimension is 58.9 but 75% of diamonds y dimension is lower than  6.54, ...\n",
        "\n",
        "Let's have a closer look to theses outliers with a boxplot."
      ]
    },
    {
      "cell_type": "code",
      "metadata": {
        "id": "V3DMgbnjkaw4"
      },
      "source": [
        "def box_plot(data, num_features):\n",
        "    fig, axes = plt.subplots(nrows=1, ncols=len(num_features), figsize=(22, 3))\n",
        "    c=0\n",
        "    for ax in axes:\n",
        "        data.boxplot(column=num_features[c], ax=axes[c])\n",
        "        plt.xlabel(num_features[c])\n",
        "        c = c+1\n",
        "    plt.show()"
      ],
      "execution_count": 14,
      "outputs": []
    },
    {
      "cell_type": "code",
      "metadata": {
        "id": "aZU_uUg-suOC"
      },
      "source": [
        "numerical_features = data.select_dtypes(include=[np.number]).columns"
      ],
      "execution_count": 15,
      "outputs": []
    },
    {
      "cell_type": "code",
      "metadata": {
        "id": "o0L8wr0RkkZl",
        "outputId": "f439882b-a029-411c-c689-c0d5ccd56e7d",
        "colab": {
          "base_uri": "https://localhost:8080/",
          "height": 160
        }
      },
      "source": [
        "box_plot(data,numerical_features)"
      ],
      "execution_count": 16,
      "outputs": [
        {
          "output_type": "display_data",
          "data": {
            "image/png": "[encoded data removed]",
            "text/plain": [
              "<Figure size 1584x216 with 7 Axes>"
            ]
          },
          "metadata": {
            "tags": [],
            "needs_background": "light"
          }
        }
      ]
    },
    {
      "cell_type": "markdown",
      "metadata": {
        "id": "pSVafIMMs3BU"
      },
      "source": [
        "Yes, definitely, there are some outliers that we need to remove\n",
        "\n",
        "We will remove outliers by calculating z-score which is equals to (Observation — Mean)/Standard Deviation :\n",
        "\n",
        "$$z_{score} = \\frac{(X - \\mu)}{\\sigma}$$\n",
        "\n",
        "We find the z score for each of the data point in the dataset and if the z score is greater than 2 than we can classify that point as an outlier."
      ]
    },
    {
      "cell_type": "code",
      "metadata": {
        "id": "PKDdohg3uoO7"
      },
      "source": [
        "def remove_outliers(data, l, z):\n",
        "    for var in l:\n",
        "        result = data[np.abs(stats.zscore(data[var])) < z]\n",
        "    return result\n",
        "  \n",
        "data = remove_outliers(data, numerical_features,2)"
      ],
      "execution_count": 17,
      "outputs": []
    },
    {
      "cell_type": "code",
      "metadata": {
        "id": "a8b2Hhktkn_v",
        "outputId": "87a99571-1685-46d4-bea1-439eed8e6578",
        "colab": {
          "base_uri": "https://localhost:8080/",
          "height": 158
        }
      },
      "source": [
        "box_plot(data,numerical_features)"
      ],
      "execution_count": 18,
      "outputs": [
        {
          "output_type": "display_data",
          "data": {
            "image/png": "[encoded data removed]",
            "text/plain": [
              "<Figure size 1584x216 with 7 Axes>"
            ]
          },
          "metadata": {
            "tags": [],
            "needs_background": "light"
          }
        }
      ]
    },
    {
      "cell_type": "markdown",
      "metadata": {
        "id": "s6WOzIkYts4S"
      },
      "source": [
        "That looks much more clean now !"
      ]
    },
    {
      "cell_type": "markdown",
      "metadata": {
        "id": "XX47Kzs0Vv6h"
      },
      "source": [
        "## Convert data to log scale"
      ]
    },
    {
      "cell_type": "code",
      "metadata": {
        "id": "OQka6FixV1Kr",
        "outputId": "7b5b344a-6ade-42b2-8791-087967ad2942",
        "colab": {
          "base_uri": "https://localhost:8080/",
          "height": 649
        }
      },
      "source": [
        "data.hist(bins = 50, figsize = (20, 15))\n",
        "plt.show()"
      ],
      "execution_count": 19,
      "outputs": [
        {
          "output_type": "display_data",
          "data": {
            "image/png": "[encoded data removed]",
            "text/plain": [
              "<Figure size 1440x1080 with 9 Axes>"
            ]
          },
          "metadata": {
            "tags": [],
            "needs_background": "light"
          }
        }
      ]
    },
    {
      "cell_type": "markdown",
      "metadata": {
        "id": "eaqohSzZWdfl"
      },
      "source": [
        "We see that most features are not normally distributed, but one of the most favored approach, if not a prerequisite, is to use Gaussian distributed data. That will help us to have  better predictions\n",
        "\n",
        "So we will log convert our numerical features to have Gaussian distributed data."
      ]
    },
    {
      "cell_type": "code",
      "metadata": {
        "id": "WEdzMP_8XG5P",
        "outputId": "29ea25a3-55f9-42bd-fe82-c6a080ce56d7",
        "colab": {
          "base_uri": "https://localhost:8080/",
          "height": 645
        }
      },
      "source": [
        "# this log converts dataframe's features inplace\n",
        "def log_convert(data, numerical_features):\n",
        "    for feature in numerical_features:\n",
        "        data[feature] = np.log(data[feature])\n",
        "\n",
        "numerical_features = list(data.drop(['color','cut','clarity'],axis = 1))\n",
        "log_convert(data,numerical_features)\n",
        "data.hist(bins = 50, figsize = (20, 15))\n",
        "plt.show()"
      ],
      "execution_count": 20,
      "outputs": [
        {
          "output_type": "display_data",
          "data": {
            "image/png": "[encoded data removed]",
            "text/plain": [
              "<Figure size 1440x1080 with 9 Axes>"
            ]
          },
          "metadata": {
            "tags": [],
            "needs_background": "light"
          }
        }
      ]
    },
    {
      "cell_type": "markdown",
      "metadata": {
        "id": "6bv8kd0nvutP"
      },
      "source": [
        "Here, we can see theses distributions are mixted gaussian distributions."
      ]
    },
    {
      "cell_type": "markdown",
      "metadata": {
        "id": "Tt55MP1PxRgE"
      },
      "source": [
        "## Split dataset into train dataset and test dataset"
      ]
    },
    {
      "cell_type": "markdown",
      "metadata": {
        "id": "Tg2mP1fg3ZHd"
      },
      "source": [
        "To train and test our models, we need to split dataset into train dataset and test dataset.\n",
        "\n",
        "The idea is pretty clear but it just feels not right to randomly split our dataset, else we could introduce a significant sampling bias. What we want to have is a test dataset which is representative of the overall dataset.\n",
        "\n",
        "To do that, one great way is to perform Stratified Sampling. The dataset will be divided into homogeneous subgroups called strata, and the right number of instances is sampled from each stratum.\n",
        "\n",
        "To use that, we need a very important feature to predict the price.\n",
        "\n",
        "So let's see what is the feature most correlated to the price."
      ]
    },
    {
      "cell_type": "code",
      "metadata": {
        "id": "VsD5rA3n3Yj2",
        "outputId": "d6e7a025-76be-4223-e523-9ba391d4525b",
        "colab": {
          "base_uri": "https://localhost:8080/",
          "height": 487
        }
      },
      "source": [
        "# Create a correlation matrix between every pair of attributes\n",
        "corr_matrix = data.corr()\n",
        "\n",
        "# Plot the correlation with seaborn\n",
        "plt.subplots(figsize = (10, 8))\n",
        "sns.heatmap(corr_matrix, annot = True)\n",
        "plt.show()"
      ],
      "execution_count": 21,
      "outputs": [
        {
          "output_type": "display_data",
          "data": {
            "image/png": "[encoded data removed]",
            "text/plain": [
              "<Figure size 720x576 with 2 Axes>"
            ]
          },
          "metadata": {
            "tags": [],
            "needs_background": "light"
          }
        }
      ]
    },
    {
      "cell_type": "markdown",
      "metadata": {
        "id": "PCuIn8ud9Avr"
      },
      "source": [
        "We see that carat is the feature most correlated with the price. And x,y,z dimension are highly correlated with carat which is normal because the weight of the diamond depends on its size.\n",
        "\n",
        "So we will use carat for our Stratified Sampling.\n",
        "\n",
        "For that, we need to divided carat features into classes."
      ]
    },
    {
      "cell_type": "markdown",
      "metadata": {
        "id": "hzVMd058AD6h"
      },
      "source": [
        "We might want use a gaussian mixture models to classify carat since we are log convert it to have Gaussian distribution"
      ]
    },
    {
      "cell_type": "code",
      "metadata": {
        "id": "RzsurGWE_u6E",
        "outputId": "6667add2-fdc2-46fc-9228-84e6c01aa0db",
        "colab": {
          "base_uri": "https://localhost:8080/",
          "height": 337
        }
      },
      "source": [
        "data[['carat','price']].hist()"
      ],
      "execution_count": 22,
      "outputs": [
        {
          "output_type": "execute_result",
          "data": {
            "text/plain": [
              "array([[<matplotlib.axes._subplots.AxesSubplot object at 0x7f22b74b09b0>,\n",
              "        <matplotlib.axes._subplots.AxesSubplot object at 0x7f22b6ce2630>]],\n",
              "      dtype=object)"
            ]
          },
          "metadata": {
            "tags": []
          },
          "execution_count": 22
        },
        {
          "output_type": "display_data",
          "data": {
            "image/png": "[encoded data removed]",
            "text/plain": [
              "<Figure size 432x288 with 2 Axes>"
            ]
          },
          "metadata": {
            "tags": [],
            "needs_background": "light"
          }
        }
      ]
    },
    {
      "cell_type": "code",
      "metadata": {
        "id": "0Cs619TuBUAA"
      },
      "source": [
        "X = np.array(data[['carat','price']])"
      ],
      "execution_count": 23,
      "outputs": []
    },
    {
      "cell_type": "code",
      "metadata": {
        "id": "Cy8Itq1PAsKR"
      },
      "source": [
        "# I just take your function to find the best number of cluster here. \n",
        "def best_GM(X):\n",
        "    lowest_bic = np.infty\n",
        "    bic = []\n",
        "    n_components_range = range(1, 7)\n",
        "    cv_types = ['spherical', 'tied', 'diag', 'full']\n",
        "    for cv_type in cv_types:\n",
        "        for n_components in n_components_range:\n",
        "            gmm = mixture.GaussianMixture(n_components=n_components,covariance_type=cv_type)\n",
        "            gmm.fit(X)\n",
        "            bic.append(gmm.bic(X))\n",
        "            if bic[-1] < lowest_bic:\n",
        "                lowest_bic = bic[-1]\n",
        "                best_gmm = gmm\n",
        "\n",
        "    bic = np.array(bic)\n",
        "\n",
        "\n",
        "\n",
        "    color_iter = itertools.cycle(['lightcoral', 'lightseagreen', 'gold','limegreen'])\n",
        "\n",
        "    rb = plt.get_cmap('rainbow')\n",
        "    colors = rb(np.linspace(0, 1.0, len(n_components_range)))\n",
        "    clf = best_gmm\n",
        "    bars = []\n",
        "\n",
        "    # Barplot of BIC scores\n",
        "\n",
        "    plt.figure(figsize=(8, 6))\n",
        "    spl = plt.subplot(2, 1, 1)\n",
        "    for i, (cv_type, color) in enumerate(zip(cv_types, color_iter)):\n",
        "        xpos = np.array(n_components_range) + .2 * (i - 2)\n",
        "        bars.append(plt.bar(xpos, bic[i * len(n_components_range): (i + 1) * len(n_components_range)], width=.2, color=color))\n",
        "    plt.xticks(n_components_range)\n",
        "    plt.ylim([bic.min() * 1.01 - .01 * bic.max(), bic.max()])\n",
        "    plt.title('BIC score per model')\n",
        "    xpos = np.mod(bic.argmin(), len(n_components_range)) + .65 +\\\n",
        "        .2 * np.floor(bic.argmin() / len(n_components_range))\n",
        "    plt.text(xpos, bic.min() * 0.97 + .03 * bic.max(), '*', fontsize=14)\n",
        "    spl.set_xlabel('Number of components')\n",
        "    spl.legend([b[0] for b in bars], cv_types)\n",
        "\n",
        "    # Plot the best model\n",
        "    splot = plt.subplot(2, 1, 2)\n",
        "    Y_ = clf.predict(X)\n",
        "    for i, (mean, cov, color) in enumerate(zip(clf.means_, clf.covariances_,colors)):\n",
        "        v, w = linalg.eigh(cov)\n",
        "        if not np.any(Y_ == i):\n",
        "            continue\n",
        "        plt.scatter(X[Y_ == i, 0], X[Y_ == i, 1], .8, color=color)\n",
        "\n",
        "        # Plot an ellipse to show the Gaussian component\n",
        "        angle = np.arctan2(w[0][1], w[0][0])\n",
        "        angle = 180. * angle / np.pi  # convert to degrees\n",
        "        v = 2. * np.sqrt(2.) * np.sqrt(v)\n",
        "        ell = mpl.patches.Ellipse(mean, v[0], v[1], 180. + angle, color=color)\n",
        "        ell.set_clip_box(splot.bbox)\n",
        "        ell.set_alpha(.5)\n",
        "        splot.add_artist(ell)\n",
        "\n",
        "    plt.xticks(())\n",
        "    plt.yticks(())\n",
        "    plt.title('Best model')\n",
        "    plt.subplots_adjust(hspace=.35, bottom=.02)\n",
        "    plt.show()\n",
        "    return clf"
      ],
      "execution_count": 24,
      "outputs": []
    },
    {
      "cell_type": "code",
      "metadata": {
        "id": "zuTfGteWFU6v",
        "outputId": "61418fc5-86eb-41a9-d8b2-4072446bdb0c",
        "colab": {
          "base_uri": "https://localhost:8080/",
          "height": 422
        }
      },
      "source": [
        "gaussian_classifier = best_GM(X)"
      ],
      "execution_count": 25,
      "outputs": [
        {
          "output_type": "display_data",
          "data": {
            "image/png": "[encoded data removed]",
            "text/plain": [
              "<Figure size 576x432 with 2 Axes>"
            ]
          },
          "metadata": {
            "tags": [],
            "needs_background": "light"
          }
        }
      ]
    },
    {
      "cell_type": "markdown",
      "metadata": {
        "id": "psumkkzyDR5Y"
      },
      "source": [
        "So here, we will class carat feature into 6 classes."
      ]
    },
    {
      "cell_type": "code",
      "metadata": {
        "id": "H4hxJW2WJ-MR"
      },
      "source": [
        "data[\"carat_cat\"] = gaussian_classifier.predict(data[[\"carat\",\"price\"]])"
      ],
      "execution_count": 26,
      "outputs": []
    },
    {
      "cell_type": "code",
      "metadata": {
        "id": "sKtlodIbGr1v",
        "outputId": "27dfe449-e5d0-4ba2-9215-64e24adda890",
        "colab": {
          "base_uri": "https://localhost:8080/"
        }
      },
      "source": [
        "data[\"carat_cat\"].value_counts()"
      ],
      "execution_count": 27,
      "outputs": [
        {
          "output_type": "execute_result",
          "data": {
            "text/plain": [
              "3    13628\n",
              "1    10339\n",
              "4     7387\n",
              "5     7190\n",
              "2     7115\n",
              "0     6435\n",
              "Name: carat_cat, dtype: int64"
            ]
          },
          "metadata": {
            "tags": []
          },
          "execution_count": 27
        }
      ]
    },
    {
      "cell_type": "code",
      "metadata": {
        "id": "oeb5JHIhGtSq",
        "outputId": "ef2fa98e-43ca-43fd-eb70-a8af95fbab98",
        "colab": {
          "base_uri": "https://localhost:8080/",
          "height": 265
        }
      },
      "source": [
        "data[\"carat_cat\"].hist()\n",
        "plt.show()"
      ],
      "execution_count": 28,
      "outputs": [
        {
          "output_type": "display_data",
          "data": {
            "image/png": "[encoded data removed]",
            "text/plain": [
              "<Figure size 432x288 with 1 Axes>"
            ]
          },
          "metadata": {
            "tags": [],
            "needs_background": "light"
          }
        }
      ]
    },
    {
      "cell_type": "markdown",
      "metadata": {
        "id": "FYkjytP-oyaC"
      },
      "source": [
        "The classification looks pretty clean! "
      ]
    },
    {
      "cell_type": "code",
      "metadata": {
        "id": "mQVoGh5-KUZw",
        "outputId": "4445e46a-a617-4e74-b32c-e436c23658f0",
        "colab": {
          "base_uri": "https://localhost:8080/",
          "height": 206
        }
      },
      "source": [
        "data.head()"
      ],
      "execution_count": 29,
      "outputs": [
        {
          "output_type": "execute_result",
          "data": {
            "text/html": [
              "<div>\n",
              "<style scoped>\n",
              "    .dataframe tbody tr th:only-of-type {\n",
              "        vertical-align: middle;\n",
              "    }\n",
              "\n",
              "    .dataframe tbody tr th {\n",
              "        vertical-align: top;\n",
              "    }\n",
              "\n",
              "    .dataframe thead th {\n",
              "        text-align: right;\n",
              "    }\n",
              "</style>\n",
              "<table border=\"1\" class=\"dataframe\">\n",
              "  <thead>\n",
              "    <tr style=\"text-align: right;\">\n",
              "      <th></th>\n",
              "      <th>carat</th>\n",
              "      <th>cut</th>\n",
              "      <th>color</th>\n",
              "      <th>clarity</th>\n",
              "      <th>depth</th>\n",
              "      <th>table</th>\n",
              "      <th>price</th>\n",
              "      <th>x</th>\n",
              "      <th>y</th>\n",
              "      <th>z</th>\n",
              "      <th>carat_cat</th>\n",
              "    </tr>\n",
              "  </thead>\n",
              "  <tbody>\n",
              "    <tr>\n",
              "      <th>0</th>\n",
              "      <td>-1.469676</td>\n",
              "      <td>Ideal</td>\n",
              "      <td>E</td>\n",
              "      <td>SI2</td>\n",
              "      <td>4.119037</td>\n",
              "      <td>4.007333</td>\n",
              "      <td>5.786897</td>\n",
              "      <td>1.373716</td>\n",
              "      <td>1.381282</td>\n",
              "      <td>0.887891</td>\n",
              "      <td>5</td>\n",
              "    </tr>\n",
              "    <tr>\n",
              "      <th>1</th>\n",
              "      <td>-1.560648</td>\n",
              "      <td>Premium</td>\n",
              "      <td>E</td>\n",
              "      <td>SI1</td>\n",
              "      <td>4.091006</td>\n",
              "      <td>4.110874</td>\n",
              "      <td>5.786897</td>\n",
              "      <td>1.358409</td>\n",
              "      <td>1.345472</td>\n",
              "      <td>0.837248</td>\n",
              "      <td>5</td>\n",
              "    </tr>\n",
              "    <tr>\n",
              "      <th>2</th>\n",
              "      <td>-1.469676</td>\n",
              "      <td>Good</td>\n",
              "      <td>E</td>\n",
              "      <td>VS1</td>\n",
              "      <td>4.041295</td>\n",
              "      <td>4.174387</td>\n",
              "      <td>5.789960</td>\n",
              "      <td>1.398717</td>\n",
              "      <td>1.403643</td>\n",
              "      <td>0.837248</td>\n",
              "      <td>5</td>\n",
              "    </tr>\n",
              "    <tr>\n",
              "      <th>3</th>\n",
              "      <td>-1.237874</td>\n",
              "      <td>Premium</td>\n",
              "      <td>I</td>\n",
              "      <td>VS2</td>\n",
              "      <td>4.133565</td>\n",
              "      <td>4.060443</td>\n",
              "      <td>5.811141</td>\n",
              "      <td>1.435085</td>\n",
              "      <td>1.442202</td>\n",
              "      <td>0.966984</td>\n",
              "      <td>5</td>\n",
              "    </tr>\n",
              "    <tr>\n",
              "      <th>4</th>\n",
              "      <td>-1.171183</td>\n",
              "      <td>Good</td>\n",
              "      <td>J</td>\n",
              "      <td>SI2</td>\n",
              "      <td>4.147885</td>\n",
              "      <td>4.060443</td>\n",
              "      <td>5.814131</td>\n",
              "      <td>1.467874</td>\n",
              "      <td>1.470176</td>\n",
              "      <td>1.011601</td>\n",
              "      <td>5</td>\n",
              "    </tr>\n",
              "  </tbody>\n",
              "</table>\n",
              "</div>"
            ],
            "text/plain": [
              "      carat      cut color clarity  ...         x         y         z  carat_cat\n",
              "0 -1.469676    Ideal     E     SI2  ...  1.373716  1.381282  0.887891          5\n",
              "1 -1.560648  Premium     E     SI1  ...  1.358409  1.345472  0.837248          5\n",
              "2 -1.469676     Good     E     VS1  ...  1.398717  1.403643  0.837248          5\n",
              "3 -1.237874  Premium     I     VS2  ...  1.435085  1.442202  0.966984          5\n",
              "4 -1.171183     Good     J     SI2  ...  1.467874  1.470176  1.011601          5\n",
              "\n",
              "[5 rows x 11 columns]"
            ]
          },
          "metadata": {
            "tags": []
          },
          "execution_count": 29
        }
      ]
    },
    {
      "cell_type": "code",
      "metadata": {
        "id": "VNW3wko3EQ4l"
      },
      "source": [
        "# Run the split. Creates on split and shares 20% of the dataset for the test set\n",
        "split = StratifiedShuffleSplit(n_splits = 10, test_size = 0.2, random_state = 42)\n",
        "\n",
        "# Separate the stratified train set and the test set\n",
        "for train_index, test_index in split.split(data, data[\"carat_cat\"]):\n",
        "    strat_train_set = data.iloc[train_index]\n",
        "    strat_test_set = data.iloc[test_index]"
      ],
      "execution_count": 30,
      "outputs": []
    },
    {
      "cell_type": "markdown",
      "metadata": {
        "id": "rP-jtAbsF3tP"
      },
      "source": [
        "Let's do a PCA to see if we can drop some columns before fitting our models."
      ]
    },
    {
      "cell_type": "code",
      "metadata": {
        "id": "C75Q-jRDGY0U",
        "outputId": "e48520fe-586d-4062-ea6c-5fd75c89ae64",
        "colab": {
          "base_uri": "https://localhost:8080/"
        }
      },
      "source": [
        "numerical_features"
      ],
      "execution_count": 31,
      "outputs": [
        {
          "output_type": "execute_result",
          "data": {
            "text/plain": [
              "['carat', 'depth', 'table', 'price', 'x', 'y', 'z']"
            ]
          },
          "metadata": {
            "tags": []
          },
          "execution_count": 31
        }
      ]
    },
    {
      "cell_type": "code",
      "metadata": {
        "id": "w5TvjZf1CS45",
        "outputId": "2fde5c7b-d03d-4613-8b4d-57a82526ae77",
        "colab": {
          "base_uri": "https://localhost:8080/",
          "height": 423
        }
      },
      "source": [
        "n_components = 3\n",
        "scaler = StandardScaler()\n",
        "scaled_data = scaler.fit_transform(data[numerical_features])\n",
        "pca = PCA(n_components=n_components)\n",
        "pca.fit(scaled_data)\n",
        "print(pca.explained_variance_ratio_)\n",
        "# Do a scree plot\n",
        "ind = np.arange(0, n_components)\n",
        "(fig, ax) = plt.subplots(figsize=(8, 6))\n",
        "sns.barplot(x=ind, y=pca.explained_variance_ratio_)\n",
        "ax.set_title('Scree plot')\n",
        "ax.set_xticks(ind)\n",
        "ax.set_xticklabels(ind)\n",
        "ax.set_xlabel('Component Number')\n",
        "ax.set_ylabel('Explained Variance')\n",
        "plt.show()"
      ],
      "execution_count": 32,
      "outputs": [
        {
          "output_type": "stream",
          "text": [
            "[0.71017986 0.18404743 0.09741395]\n"
          ],
          "name": "stdout"
        },
        {
          "output_type": "display_data",
          "data": {
            "image/png": "[encoded data removed]",
            "text/plain": [
              "<Figure size 576x432 with 1 Axes>"
            ]
          },
          "metadata": {
            "tags": [],
            "needs_background": "light"
          }
        }
      ]
    },
    {
      "cell_type": "markdown",
      "metadata": {
        "id": "OJ17qz_aEsdL"
      },
      "source": [
        "The \"coude\" criterion as well as that of the \"Scree-test\" lead us to retain the first two axes. Indeed, the first axis retains 71% of the total inertia while axis 2 still retains 18% of the inertia, which is not negligible. This leads to an explained inertia rate of 89%, which is a good result."
      ]
    },
    {
      "cell_type": "code",
      "metadata": {
        "id": "ah0eEB9rE7LE",
        "outputId": "d10e2e83-8822-47fb-ba78-d90b6248c32c",
        "colab": {
          "base_uri": "https://localhost:8080/",
          "height": 634
        }
      },
      "source": [
        "pca_values=pca.components_\n",
        "\n",
        "plt.figure(figsize=(10,10))\n",
        "plt.rcParams.update({'font.size': 14})\n",
        "#Plot circle#Create a list of 500 points with equal spacing between -1 and 1import numpy as np\n",
        "x=np.linspace(start=-1,stop=1,num=500)#Find y1 and y2 for these points\n",
        "y_positive=lambda x: np.sqrt(1-x**2) \n",
        "y_negative=lambda x: -np.sqrt(1-x**2)\n",
        "plt.plot(x,list(map(y_positive, x)), color='maroon')\n",
        "plt.plot(x,list(map(y_negative, x)),color='maroon')\n",
        "#Plot smaller circle\n",
        "x=np.linspace(start=-0.5,stop=0.5,num=500)\n",
        "y_positive=lambda x: np.sqrt(0.5**2-x**2) \n",
        "y_negative=lambda x: -np.sqrt(0.5**2-x**2)\n",
        "plt.plot(x,list(map(y_positive, x)), color='maroon')\n",
        "plt.plot(x,list(map(y_negative, x)),color='maroon')\n",
        "#Create broken lines\n",
        "x=np.linspace(start=-1,stop=1,num=30)\n",
        "plt.scatter(x,[0]*len(x), marker='_',color='maroon')\n",
        "plt.scatter([0]*len(x), x, marker='|',color='maroon')\n",
        "#Define color list\n",
        "colors = ['blue', 'red', 'green', 'black', 'purple', 'brown']\n",
        "if len(pca_values[0]) > 6:\n",
        "    colors=colors*(int(len(pca_values[0])/6)+1)\n",
        "add_string=\"\"\n",
        "for i in range(len(pca_values[0])):\n",
        "    xi=pca_values[0][i]\n",
        "    yi=pca_values[1][i]\n",
        "    plt.arrow(0,0, \n",
        "              dx=xi, dy=yi, \n",
        "              head_width=0.03, head_length=0.03, \n",
        "              color=colors[i], length_includes_head=True)    \n",
        "    add_string=f\" ({round(xi,2)} {round(yi,2)})\"\n",
        "    plt.text(pca_values[0, i], \n",
        "             pca_values[1, i] , \n",
        "             s=numerical_features[i] + add_string )\n",
        "plt.xlabel(f\"Component 1 ({round(pca.explained_variance_ratio_[0]*100,2)}%)\")\n",
        "plt.ylabel(f\"Component 2 ({round(pca.explained_variance_ratio_[1]*100,2)}%)\")\n",
        "plt.title('Variable factor map (PCA)')\n",
        "plt.show()"
      ],
      "execution_count": 33,
      "outputs": [
        {
          "output_type": "display_data",
          "data": {
            "image/png": "[encoded data removed]",
            "text/plain": [
              "<Figure size 720x720 with 1 Axes>"
            ]
          },
          "metadata": {
            "tags": [],
            "needs_background": "light"
          }
        }
      ]
    },
    {
      "cell_type": "markdown",
      "metadata": {
        "id": "mq5LnGBwIb9L"
      },
      "source": [
        "The variables x, y, z, carat and price are strongly correlated. They are positively correlated with PC1. This axis PC1 attracts our attention for this project. This axis represent a large part of the data that we want explained.\n",
        "\n",
        "The depth and table variables are negatively decorrelated because they are opposite. When the depth of a diamond is high, the table variable becomes low. The impact of these variables for predicting the price of diamonds is extremely minimal. This will allow us not to consider these variables when setting up our models.\n",
        "\n",
        "So we are going to drop table and depth columns, we believe that they have a negligable impact to the price."
      ]
    },
    {
      "cell_type": "code",
      "metadata": {
        "id": "dD-riQW5GDsS"
      },
      "source": [
        "for set in (strat_train_set, strat_test_set):\n",
        "    set.drop([\"carat_cat\",\"depth\",\"table\"], axis = 1, inplace = True)"
      ],
      "execution_count": 34,
      "outputs": []
    },
    {
      "cell_type": "code",
      "metadata": {
        "id": "O1_amkEmPRkv",
        "outputId": "2fa2852e-5fff-4396-b033-313e408fc27e",
        "colab": {
          "base_uri": "https://localhost:8080/"
        }
      },
      "source": [
        "X_train = strat_train_set.drop('price',axis = 1)\n",
        "Y_train = strat_train_set['price']\n",
        "\n",
        "X_test = strat_test_set.drop('price',axis = 1)\n",
        "Y_test = strat_test_set['price']\n",
        "\n",
        "print('X_train shape :',X_train.shape)\n",
        "print('X_test shape :',X_test.shape)\n",
        "print('Y_train shape :',Y_train.shape)\n",
        "print('Y_test shape :',Y_test.shape)"
      ],
      "execution_count": 35,
      "outputs": [
        {
          "output_type": "stream",
          "text": [
            "X_train shape : (41675, 7)\n",
            "X_test shape : (10419, 7)\n",
            "Y_train shape : (41675,)\n",
            "Y_test shape : (10419,)\n"
          ],
          "name": "stdout"
        }
      ]
    },
    {
      "cell_type": "code",
      "metadata": {
        "id": "AniX4aAIsdED",
        "outputId": "13d5690d-e354-4994-8bd5-0cc86ca6ba3a",
        "colab": {
          "base_uri": "https://localhost:8080/",
          "height": 206
        }
      },
      "source": [
        "X_train.head()"
      ],
      "execution_count": 36,
      "outputs": [
        {
          "output_type": "execute_result",
          "data": {
            "text/html": [
              "<div>\n",
              "<style scoped>\n",
              "    .dataframe tbody tr th:only-of-type {\n",
              "        vertical-align: middle;\n",
              "    }\n",
              "\n",
              "    .dataframe tbody tr th {\n",
              "        vertical-align: top;\n",
              "    }\n",
              "\n",
              "    .dataframe thead th {\n",
              "        text-align: right;\n",
              "    }\n",
              "</style>\n",
              "<table border=\"1\" class=\"dataframe\">\n",
              "  <thead>\n",
              "    <tr style=\"text-align: right;\">\n",
              "      <th></th>\n",
              "      <th>carat</th>\n",
              "      <th>cut</th>\n",
              "      <th>color</th>\n",
              "      <th>clarity</th>\n",
              "      <th>x</th>\n",
              "      <th>y</th>\n",
              "      <th>z</th>\n",
              "    </tr>\n",
              "  </thead>\n",
              "  <tbody>\n",
              "    <tr>\n",
              "      <th>38105</th>\n",
              "      <td>-1.021651</td>\n",
              "      <td>Premium</td>\n",
              "      <td>E</td>\n",
              "      <td>VS2</td>\n",
              "      <td>1.523880</td>\n",
              "      <td>1.517323</td>\n",
              "      <td>1.015231</td>\n",
              "    </tr>\n",
              "    <tr>\n",
              "      <th>37982</th>\n",
              "      <td>-0.941609</td>\n",
              "      <td>Ideal</td>\n",
              "      <td>G</td>\n",
              "      <td>VS1</td>\n",
              "      <td>1.539015</td>\n",
              "      <td>1.545433</td>\n",
              "      <td>1.075002</td>\n",
              "    </tr>\n",
              "    <tr>\n",
              "      <th>400</th>\n",
              "      <td>-1.203973</td>\n",
              "      <td>Good</td>\n",
              "      <td>H</td>\n",
              "      <td>SI1</td>\n",
              "      <td>1.449269</td>\n",
              "      <td>1.435085</td>\n",
              "      <td>0.993252</td>\n",
              "    </tr>\n",
              "    <tr>\n",
              "      <th>50135</th>\n",
              "      <td>-0.328504</td>\n",
              "      <td>Premium</td>\n",
              "      <td>G</td>\n",
              "      <td>SI1</td>\n",
              "      <td>1.749200</td>\n",
              "      <td>1.743969</td>\n",
              "      <td>1.255616</td>\n",
              "    </tr>\n",
              "    <tr>\n",
              "      <th>12962</th>\n",
              "      <td>0.000000</td>\n",
              "      <td>Very Good</td>\n",
              "      <td>D</td>\n",
              "      <td>SI1</td>\n",
              "      <td>1.840550</td>\n",
              "      <td>1.843719</td>\n",
              "      <td>1.366092</td>\n",
              "    </tr>\n",
              "  </tbody>\n",
              "</table>\n",
              "</div>"
            ],
            "text/plain": [
              "          carat        cut color clarity         x         y         z\n",
              "38105 -1.021651    Premium     E     VS2  1.523880  1.517323  1.015231\n",
              "37982 -0.941609      Ideal     G     VS1  1.539015  1.545433  1.075002\n",
              "400   -1.203973       Good     H     SI1  1.449269  1.435085  0.993252\n",
              "50135 -0.328504    Premium     G     SI1  1.749200  1.743969  1.255616\n",
              "12962  0.000000  Very Good     D     SI1  1.840550  1.843719  1.366092"
            ]
          },
          "metadata": {
            "tags": []
          },
          "execution_count": 36
        }
      ]
    },
    {
      "cell_type": "markdown",
      "metadata": {
        "id": "TxRUAbn0RTBg"
      },
      "source": [
        "## Features scaling and categorical features handling"
      ]
    },
    {
      "cell_type": "markdown",
      "metadata": {
        "id": "VlGrKSZyxav0"
      },
      "source": [
        "We still need to do something with categorical features since machine learning methodes only take numerical inputs.\n",
        "\n",
        "What we might want to do is convert theses categorical features to one hot vector.\n",
        "\n"
      ]
    },
    {
      "cell_type": "code",
      "metadata": {
        "id": "ZV6AmuyhzRTG",
        "outputId": "8ea7a4ce-8a4f-476e-a26f-a7751f853348",
        "colab": {
          "base_uri": "https://localhost:8080/"
        }
      },
      "source": [
        "categorical_features = [\"cut\",\"clarity\",\"color\"]\n",
        "numerical_features = list(X_train.drop(categorical_features,axis = 1))\n",
        "print(categorical_features)\n",
        "print(numerical_features)"
      ],
      "execution_count": 37,
      "outputs": [
        {
          "output_type": "stream",
          "text": [
            "['cut', 'clarity', 'color']\n",
            "['carat', 'x', 'y', 'z']\n"
          ],
          "name": "stdout"
        }
      ]
    },
    {
      "cell_type": "markdown",
      "metadata": {
        "id": "hj8SBqOuR4pY"
      },
      "source": [
        "We will create a pipeline to scale our numerical features and transform our categorical features in the same time."
      ]
    },
    {
      "cell_type": "code",
      "metadata": {
        "id": "QlGEAl8MR0t0"
      },
      "source": [
        "# Pipeline to transform our dataset\n",
        "pipeline = ColumnTransformer([\n",
        "    (\"num\", StandardScaler(), numerical_features), # Perform feaured scaling on numeric attributes\n",
        "    (\"cat\", OneHotEncoder(), categorical_features) # Perform One-Hot encoding on the category attributes\n",
        "])"
      ],
      "execution_count": 38,
      "outputs": []
    },
    {
      "cell_type": "code",
      "metadata": {
        "id": "CQHvxfyoSP-1"
      },
      "source": [
        "X_train = pipeline.fit_transform(X_train)\n",
        "X_test = pipeline.fit_transform(X_test)"
      ],
      "execution_count": 39,
      "outputs": []
    },
    {
      "cell_type": "markdown",
      "metadata": {
        "id": "XVI5IUmWop9X"
      },
      "source": [
        "# Models"
      ]
    },
    {
      "cell_type": "markdown",
      "metadata": {
        "id": "zC8DpU2zsq0r"
      },
      "source": [
        "## Regression Metrics"
      ]
    },
    {
      "cell_type": "markdown",
      "metadata": {
        "id": "spaKAJA5svDp"
      },
      "source": [
        "Let’s be clear on how we would evaluate and compare different models. \n",
        "\n",
        "For that purpose, we will use theses metrics :\n",
        "\n",
        "1. Mean absolute error: Mean Absolute Error refers to the mean of the absolute values of each prediction error on all instances of the dataset. The prediction error is the difference between the actual value and the predicted value for that instance.\n",
        "\n",
        "$$ \\frac{1}{N}\\sum^N_{i=1} |y_i - \\hat y_i|$$\n",
        "\n",
        "2. Root mean squared error: It is the square root of the sum of the square of the difference between the predicted and actual target variables, divided by the number of data points. RMSE has the benefit of penalizing large errors more.\n",
        "\n",
        "$$ \\sqrt{\\frac{1}{N}\\sum^N_{i=1} (y_i - \\hat y_i)^2}$$\n",
        "\n",
        "3. R-squared score: The R2 coefficient of determination is a statistical measure of how well the regression predictions approximate the real data points. An R2 of 1 indicates that the regression predictions perfectly fit the data. \n",
        "\n",
        "$$ 1 - \\frac{\\sum^N_{i=1} (y_i - \\hat y_i)^2}{\\sum^N_{i=1} (y_i - \\bar y_i)^2}$$\n",
        "\n"
      ]
    },
    {
      "cell_type": "markdown",
      "metadata": {
        "id": "FlF2mKrfxmGT"
      },
      "source": [
        "## Commun functions"
      ]
    },
    {
      "cell_type": "code",
      "metadata": {
        "id": "PXjuaerPUnWk"
      },
      "source": [
        "mae_list = []\n",
        "rmse_list = []\n",
        "rsquare_list = []\n",
        "regressor = []"
      ],
      "execution_count": 40,
      "outputs": []
    },
    {
      "cell_type": "code",
      "metadata": {
        "id": "KBH4ngQCUta1"
      },
      "source": [
        "\n",
        "def display_model(model_name,model,\n",
        "                  X_train = X_train, Y_train = Y_train,\n",
        "                  X_test = X_test, Y_test = Y_test,\n",
        "                  poly = None, save = True):\n",
        "    \n",
        "\n",
        "    #fit model\n",
        "    if poly != None:\n",
        "        X_train = poly.fit_transform(X_train)\n",
        "        X_test = poly.fit_transform(X_test)\n",
        "    model.fit(X_train,Y_train)\n",
        "\n",
        "    #prediction\n",
        "    Y_pred=model.predict(X_test)\n",
        "    \n",
        "    #Score\n",
        "    print(\"====== Test Score ======\")\n",
        "    Rsquare=model.score(X_test,Y_test)\n",
        "    print(\"Rsquare: %f\" %(Rsquare))\n",
        "\n",
        "    #reconvert to normal scale\n",
        "    Y_pred = np.exp(Y_pred)\n",
        "    Y_test = np.exp(Y_test)\n",
        "    mae = metrics.mean_absolute_error(Y_test,Y_pred)\n",
        "    print(\"mae: %f\" %(mae))\n",
        "    rmse=np.sqrt(metrics.mean_squared_error(Y_test,Y_pred))\n",
        "    print(\"rmse: %f\" %(rmse))\n",
        "\n",
        "    #save\n",
        "    if (save):\n",
        "        regressor.append(model_name)\n",
        "        rsquare_list.append(Rsquare)\n",
        "        mae_list.append(mae)\n",
        "        rmse_list.append(rmse)\n",
        "\n",
        "    #plot \n",
        "    print(\"====== Test Prediction vs Actual ======\")\n",
        "    plt.scatter(Y_test, Y_pred)\n",
        "    plt.xlabel(\"Actual\")\n",
        "    plt.ylabel(\"Predicted\")\n",
        "    x_lim = plt.xlim()\n",
        "    y_lim = plt.ylim()\n",
        "    plt.plot(x_lim, y_lim, \"k--\")\n",
        "    plt.show()\n",
        "    return Y_pred"
      ],
      "execution_count": 41,
      "outputs": []
    },
    {
      "cell_type": "code",
      "metadata": {
        "id": "MlWx1ch34v6B"
      },
      "source": [
        "def print_pred_true(Y_pred,Y_test):\n",
        "    result = pd.DataFrame(data=np.exp(Y_pred), index=Y_test.index, columns=[\"predicted price\"])\n",
        "    result['price'] = np.exp(Y_test)\n",
        "    result['diff'] = np.abs(result['predicted price'] - result['price'])\n",
        "    return result"
      ],
      "execution_count": 42,
      "outputs": []
    },
    {
      "cell_type": "markdown",
      "metadata": {
        "id": "G1-VnPVlxp_r"
      },
      "source": [
        "## Linear/Polynomial Regression"
      ]
    },
    {
      "cell_type": "code",
      "metadata": {
        "id": "zdEEADTqq1hy",
        "outputId": "c23813a0-bd50-4be1-95cf-354d6cddaa3b",
        "colab": {
          "base_uri": "https://localhost:8080/",
          "height": 418
        }
      },
      "source": [
        "reg_linear=linear_model.LinearRegression()\n",
        "display_model(\"Regression Lineaire\",reg_linear)"
      ],
      "execution_count": 43,
      "outputs": [
        {
          "output_type": "stream",
          "text": [
            "====== Test Score ======\n",
            "Rsquare: 0.982129\n",
            "mae: 349.451347\n",
            "rmse: 632.639852\n",
            "====== Test Prediction vs Actual ======\n"
          ],
          "name": "stdout"
        },
        {
          "output_type": "display_data",
          "data": {
            "image/png": "[encoded data removed]",
            "text/plain": [
              "<Figure size 432x288 with 1 Axes>"
            ]
          },
          "metadata": {
            "tags": [],
            "needs_background": "light"
          }
        },
        {
          "output_type": "execute_result",
          "data": {
            "text/plain": [
              "array([1205.79944931, 7026.1429917 ,  864.5309922 , ..., 9509.15490272,\n",
              "        712.51338309,  555.49515563])"
            ]
          },
          "metadata": {
            "tags": []
          },
          "execution_count": 43
        }
      ]
    },
    {
      "cell_type": "code",
      "metadata": {
        "id": "eDn68Z6o1AAb",
        "outputId": "fd1d83ae-4354-4158-b942-8c6573b492c5",
        "colab": {
          "base_uri": "https://localhost:8080/",
          "height": 418
        }
      },
      "source": [
        "ridge = linear_model.Ridge()\n",
        "display_model(\"Ridge Regression\",ridge)"
      ],
      "execution_count": 44,
      "outputs": [
        {
          "output_type": "stream",
          "text": [
            "====== Test Score ======\n",
            "Rsquare: 0.981727\n",
            "mae: 347.949461\n",
            "rmse: 625.564081\n",
            "====== Test Prediction vs Actual ======\n"
          ],
          "name": "stdout"
        },
        {
          "output_type": "display_data",
          "data": {
            "image/png": "[encoded data removed]",
            "text/plain": [
              "<Figure size 432x288 with 1 Axes>"
            ]
          },
          "metadata": {
            "tags": [],
            "needs_background": "light"
          }
        },
        {
          "output_type": "execute_result",
          "data": {
            "text/plain": [
              "array([1207.03947556, 7117.02743383,  851.47253392, ..., 9447.66917751,\n",
              "        723.30274427,  560.51214285])"
            ]
          },
          "metadata": {
            "tags": []
          },
          "execution_count": 44
        }
      ]
    },
    {
      "cell_type": "code",
      "metadata": {
        "id": "8wY_E8acO0kU",
        "outputId": "992d7ff4-26ea-4bf1-d81a-d0054b9c7065",
        "colab": {
          "base_uri": "https://localhost:8080/",
          "height": 420
        }
      },
      "source": [
        "poly = PolynomialFeatures(degree = 2)\n",
        "reg_poly_2 = linear_model.LinearRegression()\n",
        "display_model(\"Polynomial regressor (degree 2)\",reg_poly_2,poly=poly)"
      ],
      "execution_count": 45,
      "outputs": [
        {
          "output_type": "stream",
          "text": [
            "====== Test Score ======\n",
            "Rsquare: 0.987012\n",
            "mae: 310.798893\n",
            "rmse: 563.666583\n",
            "====== Test Prediction vs Actual ======\n"
          ],
          "name": "stdout"
        },
        {
          "output_type": "display_data",
          "data": {
            "image/png": "[encoded data removed]",
            "text/plain": [
              "<Figure size 432x288 with 1 Axes>"
            ]
          },
          "metadata": {
            "tags": [],
            "needs_background": "light"
          }
        },
        {
          "output_type": "execute_result",
          "data": {
            "text/plain": [
              "array([1190.2934792 , 6633.33319077,  819.43576191, ..., 9871.97607759,\n",
              "        694.53044857,  551.51372297])"
            ]
          },
          "metadata": {
            "tags": []
          },
          "execution_count": 45
        }
      ]
    },
    {
      "cell_type": "markdown",
      "metadata": {
        "id": "7jp35Jgu9bmP"
      },
      "source": [
        "As we can see, linear and polynomial regressions work pretty well with R-squared score close to 98%. We have this efficiency because we log-transformed our dataset. If we didn't log-transform our data, it wouldn't work that well.\n",
        "\n",
        "Furthermore, polynomial (degree 2) regression have a lower rmse than linear regression, which means it has less large errors than linear regression (so polynomial regression is a little bit better than linear regression)."
      ]
    },
    {
      "cell_type": "markdown",
      "metadata": {
        "id": "mY24MxnSxuLm"
      },
      "source": [
        "## Decision Tree Regression"
      ]
    },
    {
      "cell_type": "code",
      "metadata": {
        "id": "ZZZORBV5s1nF",
        "outputId": "a4bc75ed-e8a2-4f4d-9300-8688fac70026",
        "colab": {
          "base_uri": "https://localhost:8080/",
          "height": 422
        }
      },
      "source": [
        "decision_tree = DecisionTreeRegressor(random_state=42,max_depth=10)\n",
        "display_model(\"Decision tree regressor\",decision_tree,save=False)"
      ],
      "execution_count": 46,
      "outputs": [
        {
          "output_type": "stream",
          "text": [
            "====== Test Score ======\n",
            "Rsquare: 0.978619\n",
            "mae: 388.913664\n",
            "rmse: 741.338651\n",
            "====== Test Prediction vs Actual ======\n"
          ],
          "name": "stdout"
        },
        {
          "output_type": "display_data",
          "data": {
            "image/png": "[encoded data removed]",
            "text/plain": [
              "<Figure size 432x288 with 1 Axes>"
            ]
          },
          "metadata": {
            "tags": [],
            "needs_background": "light"
          }
        },
        {
          "output_type": "execute_result",
          "data": {
            "text/plain": [
              "array([ 882.00627653, 5490.13803121,  883.21933158, ..., 9779.14701519,\n",
              "        680.38413675,  549.11430119])"
            ]
          },
          "metadata": {
            "tags": []
          },
          "execution_count": 46
        }
      ]
    },
    {
      "cell_type": "markdown",
      "metadata": {
        "id": "SqbKDORbtFmZ"
      },
      "source": [
        "We can see here, a decision tree regressor which a max depth fixed to 10 is not good, it predicted the same price for different actual prices. So let nodes expanded until all leaves are pure or until all leaves contain less than min_samples_split samples (which means we don't precise max_depth parameter)."
      ]
    },
    {
      "cell_type": "code",
      "metadata": {
        "id": "ict6EvNNQK7M",
        "outputId": "442c7786-10f2-4cbb-8236-ccc5610dc020",
        "colab": {
          "base_uri": "https://localhost:8080/",
          "height": 399
        }
      },
      "source": [
        "decision_tree = DecisionTreeRegressor(random_state = 42)\n",
        "display_model(\"Decision tree regressor\",decision_tree)"
      ],
      "execution_count": 47,
      "outputs": [
        {
          "output_type": "stream",
          "text": [
            "====== Test Score ======\n",
            "Rsquare: 0.984384\n",
            "mae: 315.731733\n",
            "rmse: 614.760806\n",
            "====== Test Prediction vs Actual ======\n"
          ],
          "name": "stdout"
        },
        {
          "output_type": "display_data",
          "data": {
            "image/png": "[encoded data removed]",
            "text/plain": [
              "<Figure size 432x288 with 1 Axes>"
            ]
          },
          "metadata": {
            "tags": [],
            "needs_background": "light"
          }
        },
        {
          "output_type": "execute_result",
          "data": {
            "text/plain": [
              "array([1200., 5808.,  868., ..., 9297.,  637.,  521.])"
            ]
          },
          "metadata": {
            "tags": []
          },
          "execution_count": 47
        }
      ]
    },
    {
      "cell_type": "markdown",
      "metadata": {
        "id": "EDyXjpSQtsmG"
      },
      "source": [
        "We can see here that decision tree regression works pretty well, which has a R_square score of 98% (works as well as linear regressions). "
      ]
    },
    {
      "cell_type": "markdown",
      "metadata": {
        "id": "QPfE9qsgmBgZ"
      },
      "source": [
        "## Support Vector Regression"
      ]
    },
    {
      "cell_type": "code",
      "metadata": {
        "id": "M-Hbe0qPvGaF",
        "outputId": "94f51714-ad69-4a76-fbc6-d87c616a80e5",
        "colab": {
          "base_uri": "https://localhost:8080/",
          "height": 418
        }
      },
      "source": [
        "svm_reg = LinearSVR()\n",
        "display_model(\"SVR\",svm_reg,save=False)"
      ],
      "execution_count": 48,
      "outputs": [
        {
          "output_type": "stream",
          "text": [
            "====== Test Score ======\n",
            "Rsquare: 0.982054\n",
            "mae: 346.082772\n",
            "rmse: 634.335456\n",
            "====== Test Prediction vs Actual ======\n"
          ],
          "name": "stdout"
        },
        {
          "output_type": "display_data",
          "data": {
            "image/png": "[encoded data removed]",
            "text/plain": [
              "<Figure size 432x288 with 1 Axes>"
            ]
          },
          "metadata": {
            "tags": [],
            "needs_background": "light"
          }
        },
        {
          "output_type": "execute_result",
          "data": {
            "text/plain": [
              "array([1181.20942288, 6917.73859794,  862.78720706, ..., 9489.30123992,\n",
              "        691.02519991,  546.45214357])"
            ]
          },
          "metadata": {
            "tags": []
          },
          "execution_count": 48
        }
      ]
    },
    {
      "cell_type": "markdown",
      "metadata": {
        "id": "LlhojjXGwBuG"
      },
      "source": [
        "We found very close values of R_square, mae and rmse with others methods done before, with a r_squared of 98%. We can say that SVR works pretty good too."
      ]
    },
    {
      "cell_type": "markdown",
      "metadata": {
        "id": "j5b9mLCmyA3C"
      },
      "source": [
        "## AdaBoost Regression"
      ]
    },
    {
      "cell_type": "code",
      "metadata": {
        "id": "BV-G0NayZL2W",
        "outputId": "d3756a84-6661-469d-f7b2-7e27c9cc7b37",
        "colab": {
          "base_uri": "https://localhost:8080/",
          "height": 418
        }
      },
      "source": [
        "ada = AdaBoostRegressor(random_state=0, n_estimators=200)\n",
        "display_model(\"Ada boost regressor\",ada)"
      ],
      "execution_count": 49,
      "outputs": [
        {
          "output_type": "stream",
          "text": [
            "====== Test Score ======\n",
            "Rsquare: 0.945421\n",
            "mae: 675.569713\n",
            "rmse: 1254.061159\n",
            "====== Test Prediction vs Actual ======\n"
          ],
          "name": "stdout"
        },
        {
          "output_type": "display_data",
          "data": {
            "image/png": "[encoded data removed]",
            "text/plain": [
              "<Figure size 432x288 with 1 Axes>"
            ]
          },
          "metadata": {
            "tags": [],
            "needs_background": "light"
          }
        },
        {
          "output_type": "execute_result",
          "data": {
            "text/plain": [
              "array([1133.99696917, 8525.10432237,  710.68407535, ..., 9699.50447379,\n",
              "        913.6592831 ,  710.68407535])"
            ]
          },
          "metadata": {
            "tags": []
          },
          "execution_count": 49
        }
      ]
    },
    {
      "cell_type": "markdown",
      "metadata": {
        "id": "1s_h1WD39p3I"
      },
      "source": [
        "We observe that adaboost regression is the worst method until now, even with 200 estimators, maybe because it use default estimator a decision tree with a depth of 3 (not deep enough)."
      ]
    },
    {
      "cell_type": "markdown",
      "metadata": {
        "id": "34mYiSoAxzTn"
      },
      "source": [
        "## Random Forests Regression"
      ]
    },
    {
      "cell_type": "markdown",
      "metadata": {
        "id": "jVGA8Cx-wtAD"
      },
      "source": [
        "We see that several methods like RandomForestRegressor, BaggingRegressor, GradientBoosting take several hyperparameters. \n",
        "\n",
        "If we use too 'low' parameters, we risk to not have the best version of our algorithms, if we use too 'high', it might use our computational resources unnecessary\n",
        "\n",
        "In order to find the best parameters, we will use a RandomizedSearchCV which use Hyperparameter Grid.\n",
        "\n",
        "RandomizedSearchCV will return the best performant parameters."
      ]
    },
    {
      "cell_type": "code",
      "metadata": {
        "id": "d-b1OmDexqYf",
        "outputId": "dfe05244-0b71-4c63-9f8e-ade1ce7c34e5",
        "colab": {
          "base_uri": "https://localhost:8080/"
        }
      },
      "source": [
        "# Number of trees in random forest\n",
        "n_estimators = [int(x) for x in np.linspace(start = 1, stop = 50, num = 3)]\n",
        "# Maximum number of levels in tree\n",
        "max_depth = [int(x) for x in np.linspace(10, 20, num = 2)]\n",
        "max_depth.append(None)\n",
        "# Create the random grid\n",
        "random_grid = {'n_estimators': n_estimators,\n",
        "               'max_depth': max_depth}\n",
        "print(random_grid)"
      ],
      "execution_count": 50,
      "outputs": [
        {
          "output_type": "stream",
          "text": [
            "{'n_estimators': [1, 25, 50], 'max_depth': [10, 20, None]}\n"
          ],
          "name": "stdout"
        }
      ]
    },
    {
      "cell_type": "code",
      "metadata": {
        "id": "etWPyHBo2Ng3",
        "outputId": "8b85f1f9-97a9-4721-900a-013f77ccf93c",
        "colab": {
          "base_uri": "https://localhost:8080/"
        }
      },
      "source": [
        "with tf.device('/device:GPU:0'):\n",
        "    rf = RandomForestRegressor()\n",
        "    # Random search of parameters, using 3 fold cross validation, \n",
        "    # search across all different combinations, and use all available cores\n",
        "    rf_random = RandomizedSearchCV(estimator = rf, param_distributions = random_grid, cv = 2, verbose=2, random_state=42, n_jobs = -1)\n",
        "    # Fit the random search model\n",
        "    rf_random.fit(X_train, Y_train)"
      ],
      "execution_count": 51,
      "outputs": [
        {
          "output_type": "stream",
          "text": [
            "Fitting 2 folds for each of 9 candidates, totalling 18 fits\n"
          ],
          "name": "stdout"
        },
        {
          "output_type": "stream",
          "text": [
            "[Parallel(n_jobs=-1)]: Using backend LokyBackend with 2 concurrent workers.\n",
            "[Parallel(n_jobs=-1)]: Done  18 out of  18 | elapsed:  3.1min finished\n"
          ],
          "name": "stderr"
        }
      ]
    },
    {
      "cell_type": "code",
      "metadata": {
        "id": "UZNtdZ-Q6MJU",
        "outputId": "2641535f-ee55-43ab-eba0-19e2bc275b2b",
        "colab": {
          "base_uri": "https://localhost:8080/"
        }
      },
      "source": [
        "rf_random.best_params_"
      ],
      "execution_count": 52,
      "outputs": [
        {
          "output_type": "execute_result",
          "data": {
            "text/plain": [
              "{'max_depth': 20, 'n_estimators': 50}"
            ]
          },
          "metadata": {
            "tags": []
          },
          "execution_count": 52
        }
      ]
    },
    {
      "cell_type": "markdown",
      "metadata": {
        "id": "uHMz1_E0Kqpn"
      },
      "source": [
        "We can see here that in our case random forest with the most number of trees (50) work better. But each tree only have a depth of 20, not the deepest depth.\n",
        "\n",
        "We can conlute that it is not necessary to set max_depth = None to have the best performance"
      ]
    },
    {
      "cell_type": "code",
      "metadata": {
        "id": "XGBg0NCGRn0c",
        "outputId": "cae12d0a-d536-4780-b057-910eb3e7c7af",
        "colab": {
          "base_uri": "https://localhost:8080/",
          "height": 418
        }
      },
      "source": [
        "best_rf = rf_random.best_estimator_\n",
        "display_model(\"Random forest regressor\",best_rf)"
      ],
      "execution_count": 53,
      "outputs": [
        {
          "output_type": "stream",
          "text": [
            "====== Test Score ======\n",
            "Rsquare: 0.991681\n",
            "mae: 237.640282\n",
            "rmse: 457.700128\n",
            "====== Test Prediction vs Actual ======\n"
          ],
          "name": "stdout"
        },
        {
          "output_type": "display_data",
          "data": {
            "image/png": "[encoded data removed]",
            "text/plain": [
              "<Figure size 432x288 with 1 Axes>"
            ]
          },
          "metadata": {
            "tags": [],
            "needs_background": "light"
          }
        },
        {
          "output_type": "execute_result",
          "data": {
            "text/plain": [
              "array([1188.94296176, 5890.77917546,  822.78581787, ..., 9322.20329577,\n",
              "        645.22141316,  523.59825593])"
            ]
          },
          "metadata": {
            "tags": []
          },
          "execution_count": 53
        }
      ]
    },
    {
      "cell_type": "markdown",
      "metadata": {
        "id": "ADBL0EwM_2j9"
      },
      "source": [
        "We can see here Random Forest Regression give us the best result so far with the lower mae,rmse and a r_squared of 99%"
      ]
    },
    {
      "cell_type": "markdown",
      "metadata": {
        "id": "CGjkF3rsELGc"
      },
      "source": [
        "## Bagging Regression"
      ]
    },
    {
      "cell_type": "code",
      "metadata": {
        "id": "jRNbuHPm71R-",
        "outputId": "0cd873c9-b7b1-4057-bba3-a841344672cf",
        "colab": {
          "base_uri": "https://localhost:8080/"
        }
      },
      "source": [
        "# Number of estimators\n",
        "n_estimators = [int(x) for x in np.linspace(start = 1, stop = 50, num = 6)]\n",
        "# Maximum number of levels in tree\n",
        "# Create the random grid\n",
        "random_grid = {'n_estimators': n_estimators}\n",
        "print(random_grid)"
      ],
      "execution_count": 54,
      "outputs": [
        {
          "output_type": "stream",
          "text": [
            "{'n_estimators': [1, 10, 20, 30, 40, 50]}\n"
          ],
          "name": "stdout"
        }
      ]
    },
    {
      "cell_type": "code",
      "metadata": {
        "id": "yxObWFR6Eb0g",
        "outputId": "a9ab91b7-cf14-435b-8da4-182dcd66c58d",
        "colab": {
          "base_uri": "https://localhost:8080/"
        }
      },
      "source": [
        "with tf.device('/device:GPU:0'):\n",
        "    bagging = BaggingRegressor(base_estimator=DecisionTreeRegressor())\n",
        "    # Random search of parameters, using 2 fold cross validation, \n",
        "    # search across all combinations, and use all available cores\n",
        "    bagging_random = RandomizedSearchCV(estimator = bagging, param_distributions = random_grid, cv = 2, verbose=2, random_state=42, n_jobs = -1)\n",
        "    # Fit the random search model\n",
        "    bagging_random.fit(X_train, Y_train)\n"
      ],
      "execution_count": 55,
      "outputs": [
        {
          "output_type": "stream",
          "text": [
            "Fitting 2 folds for each of 6 candidates, totalling 12 fits\n"
          ],
          "name": "stdout"
        },
        {
          "output_type": "stream",
          "text": [
            "[Parallel(n_jobs=-1)]: Using backend LokyBackend with 2 concurrent workers.\n",
            "[Parallel(n_jobs=-1)]: Done  12 out of  12 | elapsed:  3.0min finished\n"
          ],
          "name": "stderr"
        }
      ]
    },
    {
      "cell_type": "code",
      "metadata": {
        "id": "GNSSbMHM8YxK",
        "outputId": "1cc4108f-cc42-4973-94b3-99b0de9243fd",
        "colab": {
          "base_uri": "https://localhost:8080/"
        }
      },
      "source": [
        "bagging_random.best_params_"
      ],
      "execution_count": 56,
      "outputs": [
        {
          "output_type": "execute_result",
          "data": {
            "text/plain": [
              "{'n_estimators': 50}"
            ]
          },
          "metadata": {
            "tags": []
          },
          "execution_count": 56
        }
      ]
    },
    {
      "cell_type": "markdown",
      "metadata": {
        "id": "NLJR7r6G-gxc"
      },
      "source": [
        "Here, we see that bagging regressor work the best with the most number of estimators 50"
      ]
    },
    {
      "cell_type": "code",
      "metadata": {
        "id": "NMATnTUb8fzb",
        "outputId": "b3b8df77-51d6-44e6-89b2-19439085cdf5",
        "colab": {
          "base_uri": "https://localhost:8080/",
          "height": 418
        }
      },
      "source": [
        "best_bagging = bagging_random.best_estimator_\n",
        "display_model(\"Bagging\",best_bagging)"
      ],
      "execution_count": 57,
      "outputs": [
        {
          "output_type": "stream",
          "text": [
            "====== Test Score ======\n",
            "Rsquare: 0.991621\n",
            "mae: 239.336950\n",
            "rmse: 461.289393\n",
            "====== Test Prediction vs Actual ======\n"
          ],
          "name": "stdout"
        },
        {
          "output_type": "display_data",
          "data": {
            "image/png": "[encoded data removed]",
            "text/plain": [
              "<Figure size 432x288 with 1 Axes>"
            ]
          },
          "metadata": {
            "tags": [],
            "needs_background": "light"
          }
        },
        {
          "output_type": "execute_result",
          "data": {
            "text/plain": [
              "array([1211.29402852, 5952.9578795 ,  850.12723859, ..., 9297.71139305,\n",
              "        655.21508194,  524.57632701])"
            ]
          },
          "metadata": {
            "tags": []
          },
          "execution_count": 57
        }
      ]
    },
    {
      "cell_type": "markdown",
      "metadata": {
        "id": "A_vjl3Rn__75"
      },
      "source": [
        "Bagging Regression work as well as random forest in our case."
      ]
    },
    {
      "cell_type": "markdown",
      "metadata": {
        "id": "7X81GQs00-J9"
      },
      "source": [
        "## KNN"
      ]
    },
    {
      "cell_type": "code",
      "metadata": {
        "id": "BwX3QIod_Gqf",
        "outputId": "64efd4cc-4a1c-4dc9-e9a5-cc0c4aa18078",
        "colab": {
          "base_uri": "https://localhost:8080/"
        }
      },
      "source": [
        "# Number of neighbors\n",
        "n_neighbors = [int(x) for x in np.linspace(start = 1, stop = 20, num = 5)]\n",
        "# Maximum number of levels in tree\n",
        "# Create the random grid\n",
        "random_grid = {'n_neighbors': n_neighbors}\n",
        "print(random_grid)"
      ],
      "execution_count": 58,
      "outputs": [
        {
          "output_type": "stream",
          "text": [
            "{'n_neighbors': [1, 5, 10, 15, 20]}\n"
          ],
          "name": "stdout"
        }
      ]
    },
    {
      "cell_type": "code",
      "metadata": {
        "id": "5oAhhl2e_Rkf",
        "outputId": "236c7e31-5fc2-4dce-cdcb-bb02ad6a5106",
        "colab": {
          "base_uri": "https://localhost:8080/"
        }
      },
      "source": [
        "with tf.device('/device:GPU:0'):\n",
        "    knn = KNeighborsRegressor(weights='distance', metric='euclidean')\n",
        "    # Random search of parameters, using 2 fold cross validation, \n",
        "    # search across all different combinations, and use all available cores\n",
        "    knn_random = RandomizedSearchCV(estimator = knn, param_distributions = random_grid, cv = 2, verbose=2, random_state=42, n_jobs = -1)\n",
        "    # Fit the random search model\n",
        "    knn_random.fit(X_train, Y_train)"
      ],
      "execution_count": 59,
      "outputs": [
        {
          "output_type": "stream",
          "text": [
            "Fitting 2 folds for each of 5 candidates, totalling 10 fits\n"
          ],
          "name": "stdout"
        },
        {
          "output_type": "stream",
          "text": [
            "[Parallel(n_jobs=-1)]: Using backend LokyBackend with 2 concurrent workers.\n",
            "[Parallel(n_jobs=-1)]: Done  10 out of  10 | elapsed:  1.7min finished\n"
          ],
          "name": "stderr"
        }
      ]
    },
    {
      "cell_type": "code",
      "metadata": {
        "id": "eTZGfxtC_iGt",
        "outputId": "aea7971b-583f-4974-a55d-436d1245d787",
        "colab": {
          "base_uri": "https://localhost:8080/"
        }
      },
      "source": [
        "knn_random.best_params_"
      ],
      "execution_count": 60,
      "outputs": [
        {
          "output_type": "execute_result",
          "data": {
            "text/plain": [
              "{'n_neighbors': 5}"
            ]
          },
          "metadata": {
            "tags": []
          },
          "execution_count": 60
        }
      ]
    },
    {
      "cell_type": "markdown",
      "metadata": {
        "id": "WzExdy0EAI4_"
      },
      "source": [
        "We see that 1 is not the best choice for the parameter n_neighbors nor 10, 15 or 20. So, it is not true that the higher n_neighbors we set, the better result we have.\n",
        "\n",
        "In fact, with n_neighbors = 1, we only consider one point, the nearest neighbor. With n_neighbors = 10, 15, 20 we take too much observations into account,which cannot bring useful information for our regression."
      ]
    },
    {
      "cell_type": "code",
      "metadata": {
        "id": "8nqtVrvuE5F4",
        "outputId": "f020410e-8b1b-4483-aa24-4a8b2c178c41",
        "colab": {
          "base_uri": "https://localhost:8080/",
          "height": 418
        }
      },
      "source": [
        "best_knn = knn_random.best_estimator_\n",
        "display_model(\"KNN\",best_knn)"
      ],
      "execution_count": 61,
      "outputs": [
        {
          "output_type": "stream",
          "text": [
            "====== Test Score ======\n",
            "Rsquare: 0.989067\n",
            "mae: 259.923051\n",
            "rmse: 506.376919\n",
            "====== Test Prediction vs Actual ======\n"
          ],
          "name": "stdout"
        },
        {
          "output_type": "display_data",
          "data": {
            "image/png": "[encoded data removed]",
            "text/plain": [
              "<Figure size 432x288 with 1 Axes>"
            ]
          },
          "metadata": {
            "tags": [],
            "needs_background": "light"
          }
        },
        {
          "output_type": "execute_result",
          "data": {
            "text/plain": [
              "array([1195.92294368, 5918.28750669,  821.69378406, ..., 9312.69180996,\n",
              "        624.62038184,  574.38454731])"
            ]
          },
          "metadata": {
            "tags": []
          },
          "execution_count": 61
        }
      ]
    },
    {
      "cell_type": "markdown",
      "metadata": {
        "id": "hBeHCTThmJk9"
      },
      "source": [
        "## Gradient Boosting"
      ]
    },
    {
      "cell_type": "markdown",
      "metadata": {
        "id": "_9VBoEyEBfTy"
      },
      "source": [
        "With gradient boosting, we know this algorithm resists pretty well with overfitting, so we just need to set a high number of estimators."
      ]
    },
    {
      "cell_type": "code",
      "metadata": {
        "id": "0ZfTIMJtlwT7",
        "outputId": "60f9e28c-abea-4bf6-a49f-e49f4b3d8669",
        "colab": {
          "base_uri": "https://localhost:8080/",
          "height": 423
        }
      },
      "source": [
        "grad_reg = GradientBoostingRegressor(n_estimators = 200)\n",
        "display_model(\"Gradient boosting regressor\",grad_reg)"
      ],
      "execution_count": 62,
      "outputs": [
        {
          "output_type": "stream",
          "text": [
            "====== Test Score ======\n",
            "Rsquare: 0.989009\n",
            "mae: 278.222318\n",
            "rmse: 518.683915\n",
            "====== Test Prediction vs Actual ======\n"
          ],
          "name": "stdout"
        },
        {
          "output_type": "display_data",
          "data": {
            "image/png": "[encoded data removed]",
            "text/plain": [
              "<Figure size 432x288 with 1 Axes>"
            ]
          },
          "metadata": {
            "tags": [],
            "needs_background": "light"
          }
        },
        {
          "output_type": "execute_result",
          "data": {
            "text/plain": [
              "array([1066.42735124, 6158.0910194 ,  875.85226551, ..., 9862.90885514,\n",
              "        692.1432436 ,  573.62381175])"
            ]
          },
          "metadata": {
            "tags": []
          },
          "execution_count": 62
        }
      ]
    },
    {
      "cell_type": "markdown",
      "metadata": {
        "id": "JoeIXDnOyFix"
      },
      "source": [
        "## Comparisons"
      ]
    },
    {
      "cell_type": "code",
      "metadata": {
        "id": "Wjr0WfnQZ8NY",
        "outputId": "2dfb4785-80be-4259-f327-c4c1f6215e79",
        "colab": {
          "base_uri": "https://localhost:8080/"
        }
      },
      "source": [
        "t  = PrettyTable([\"Model\",\"MAE\",\"RMSE\",\"R_square\"])\n",
        "for i in range(len(regressor)):\n",
        "  t.add_row([regressor[i],round(mae_list[i],2),round(rmse_list[i],2),round(rsquare_list[i],4)])\n",
        "print(t)"
      ],
      "execution_count": 63,
      "outputs": [
        {
          "output_type": "stream",
          "text": [
            "+---------------------------------+--------+---------+----------+\n",
            "|              Model              |  MAE   |   RMSE  | R_square |\n",
            "+---------------------------------+--------+---------+----------+\n",
            "|       Regression Lineaire       | 349.45 |  632.64 |  0.9821  |\n",
            "|         Ridge Regression        | 347.95 |  625.56 |  0.9817  |\n",
            "| Polynomial regressor (degree 2) | 310.8  |  563.67 |  0.987   |\n",
            "|     Decision tree regressor     | 315.73 |  614.76 |  0.9844  |\n",
            "|       Ada boost regressor       | 675.57 | 1254.06 |  0.9454  |\n",
            "|     Random forest regressor     | 237.64 |  457.7  |  0.9917  |\n",
            "|             Bagging             | 239.34 |  461.29 |  0.9916  |\n",
            "|               KNN               | 259.92 |  506.38 |  0.9891  |\n",
            "|   Gradient boosting regressor   | 278.22 |  518.68 |  0.989   |\n",
            "+---------------------------------+--------+---------+----------+\n"
          ],
          "name": "stdout"
        }
      ]
    },
    {
      "cell_type": "markdown",
      "metadata": {
        "id": "77LP_XGtJ8pN"
      },
      "source": [
        "As we can see, we can reach a pretty good model with simple models like linear regressors, decision tree regressor (MAE $\\sim$ 300, RMSE $\\sim$ 600, R_squared $\\sim$ 98%).\n",
        "\n",
        "More complicated regressors like Random Forest Regressor, Bagging Regressor, KNN, Gradient Boosting work the best (MAE $\\sim$ 200, RMSE $\\sim$ 400, R_squared $\\sim$ 99%).\n",
        "\n",
        "AdaBoost Regressor have the worst score (MAE $\\sim$ 675, RMSE $\\sim$ 1254, R_squared $\\sim$ 94.5%) while we saw in class that it's a advanced method (like we said before, maybe a decision tree with a depth of 3 is not sufficient to have good predictions)."
      ]
    }
  ]
}